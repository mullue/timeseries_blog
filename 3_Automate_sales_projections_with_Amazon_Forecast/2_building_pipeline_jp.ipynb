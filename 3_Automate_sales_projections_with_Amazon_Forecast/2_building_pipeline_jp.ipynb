{
 "cells": [
  {
   "cell_type": "markdown",
   "metadata": {},
   "source": [
    "# 1.make Lambda function"
   ]
  },
  {
   "cell_type": "code",
   "execution_count": 1,
   "metadata": {},
   "outputs": [],
   "source": [
    "import boto3"
   ]
  },
  {
   "cell_type": "code",
   "execution_count": 2,
   "metadata": {},
   "outputs": [],
   "source": [
    "lambda_ = boto3.client('lambda')"
   ]
  },
  {
   "cell_type": "code",
   "execution_count": 3,
   "metadata": {},
   "outputs": [
    {
     "name": "stdout",
     "output_type": "stream",
     "text": [
      "  adding: datasetimport.py (deflated 44%)\n",
      "  adding: .ipynb_checkpoints/ (stored 0%)\n",
      "  adding: .ipynb_checkpoints/datasetimport-checkpoint.py (deflated 44%)\n"
     ]
    },
    {
     "data": {
      "text/plain": [
       "{'ResponseMetadata': {'RequestId': '3978726f-7884-4393-8162-982836930412',\n",
       "  'HTTPStatusCode': 201,\n",
       "  'HTTPHeaders': {'date': 'Tue, 21 Jul 2020 16:04:44 GMT',\n",
       "   'content-type': 'application/json',\n",
       "   'content-length': '885',\n",
       "   'connection': 'keep-alive',\n",
       "   'x-amzn-requestid': '3978726f-7884-4393-8162-982836930412'},\n",
       "  'RetryAttempts': 0},\n",
       " 'FunctionName': 'datasetimport',\n",
       " 'FunctionArn': 'arn:aws:lambda:us-east-1:805433377179:function:datasetimport',\n",
       " 'Runtime': 'python3.7',\n",
       " 'Role': 'arn:aws:iam::805433377179:role/PersonalizePOCDemo-SageMakerIamRole-125YH74GVVADM',\n",
       " 'Handler': 'datasetimport.lambda_handler',\n",
       " 'CodeSize': 1278,\n",
       " 'Description': '',\n",
       " 'Timeout': 900,\n",
       " 'MemorySize': 3008,\n",
       " 'LastModified': '2020-07-21T16:04:44.755+0000',\n",
       " 'CodeSha256': 'E7yCjRhEwP3fFMTjVWkJKX3QWoQ90m7YUk2RcPft5cA=',\n",
       " 'Version': '$LATEST',\n",
       " 'TracingConfig': {'Mode': 'PassThrough'},\n",
       " 'RevisionId': '5670a4c8-c44c-405d-b4d0-810312c265c2',\n",
       " 'State': 'Active',\n",
       " 'LastUpdateStatus': 'Successful'}"
      ]
     },
     "execution_count": 3,
     "metadata": {},
     "output_type": "execute_result"
    }
   ],
   "source": [
    "!rm -f lambdas/createdatasetimport/datasetimport.zip\n",
    "!cd lambdas/createdatasetimport; zip -r datasetimport .\n",
    "\n",
    "zip_file = open(\"lambdas/createdatasetimport/datasetimport.zip\", \"rb\").read()\n",
    "role = 'arn:aws:iam::805433377179:role/PersonalizePOCDemo-SageMakerIamRole-125YH74GVVADM'\n",
    "\n",
    "lambda_.create_function(\n",
    "    FunctionName=\"datasetimport\",\n",
    "    Runtime=\"python3.7\",\n",
    "    Role=role,\n",
    "    Handler=\"datasetimport.lambda_handler\",\n",
    "    Code={\"ZipFile\": zip_file},\n",
    "    Timeout=60*15,\n",
    "    MemorySize=3008\n",
    ")"
   ]
  },
  {
   "cell_type": "code",
   "execution_count": 4,
   "metadata": {},
   "outputs": [
    {
     "name": "stdout",
     "output_type": "stream",
     "text": [
      "  adding: .ipynb_checkpoints/ (stored 0%)\n",
      "  adding: .ipynb_checkpoints/getstatusimport-checkpoint.py (deflated 42%)\n",
      "  adding: getstatusimport.py (deflated 42%)\n"
     ]
    },
    {
     "data": {
      "text/plain": [
       "{'ResponseMetadata': {'RequestId': '42b46e95-914d-4fc0-ac8b-1abd21dcc389',\n",
       "  'HTTPStatusCode': 201,\n",
       "  'HTTPHeaders': {'date': 'Tue, 21 Jul 2020 16:04:46 GMT',\n",
       "   'content-type': 'application/json',\n",
       "   'content-length': '891',\n",
       "   'connection': 'keep-alive',\n",
       "   'x-amzn-requestid': '42b46e95-914d-4fc0-ac8b-1abd21dcc389'},\n",
       "  'RetryAttempts': 0},\n",
       " 'FunctionName': 'getstatusimport',\n",
       " 'FunctionArn': 'arn:aws:lambda:us-east-1:805433377179:function:getstatusimport',\n",
       " 'Runtime': 'python3.7',\n",
       " 'Role': 'arn:aws:iam::805433377179:role/PersonalizePOCDemo-SageMakerIamRole-125YH74GVVADM',\n",
       " 'Handler': 'getstatusimport.lambda_handler',\n",
       " 'CodeSize': 1090,\n",
       " 'Description': '',\n",
       " 'Timeout': 900,\n",
       " 'MemorySize': 3008,\n",
       " 'LastModified': '2020-07-21T16:04:46.448+0000',\n",
       " 'CodeSha256': 'kXwmCWgxXAJOMfebhLJsggsjUWB0mWVzCxBitwRWBUI=',\n",
       " 'Version': '$LATEST',\n",
       " 'TracingConfig': {'Mode': 'PassThrough'},\n",
       " 'RevisionId': '455167bd-2c91-4a4f-9a01-73f78586e637',\n",
       " 'State': 'Active',\n",
       " 'LastUpdateStatus': 'Successful'}"
      ]
     },
     "execution_count": 4,
     "metadata": {},
     "output_type": "execute_result"
    }
   ],
   "source": [
    "!rm -f lambdas/GetStatusImport/getstatusimport.zip\n",
    "!cd lambdas/GetStatusImport; zip -r getstatusimport .\n",
    "\n",
    "zip_file = open(\"lambdas/GetStatusImport/getstatusimport.zip\", \"rb\").read()\n",
    "role = 'arn:aws:iam::805433377179:role/PersonalizePOCDemo-SageMakerIamRole-125YH74GVVADM'\n",
    "\n",
    "lambda_.create_function(\n",
    "    FunctionName=\"getstatusimport\",\n",
    "    Runtime=\"python3.7\",\n",
    "    Role=role,\n",
    "    Handler=\"getstatusimport.lambda_handler\",\n",
    "    Code={\"ZipFile\": zip_file},\n",
    "    Timeout=60*15,\n",
    "    MemorySize=3008\n",
    ")"
   ]
  },
  {
   "cell_type": "code",
   "execution_count": 5,
   "metadata": {},
   "outputs": [
    {
     "name": "stdout",
     "output_type": "stream",
     "text": [
      "  adding: .ipynb_checkpoints/ (stored 0%)\n",
      "  adding: .ipynb_checkpoints/predictor-checkpoint.py (deflated 54%)\n",
      "  adding: predictor.py (deflated 54%)\n"
     ]
    },
    {
     "data": {
      "text/plain": [
       "{'ResponseMetadata': {'RequestId': 'c5d25f63-fc2b-435d-811b-bd62af894f73',\n",
       "  'HTTPStatusCode': 201,\n",
       "  'HTTPHeaders': {'date': 'Tue, 21 Jul 2020 16:04:47 GMT',\n",
       "   'content-type': 'application/json',\n",
       "   'content-length': '873',\n",
       "   'connection': 'keep-alive',\n",
       "   'x-amzn-requestid': 'c5d25f63-fc2b-435d-811b-bd62af894f73'},\n",
       "  'RetryAttempts': 0},\n",
       " 'FunctionName': 'predictor',\n",
       " 'FunctionArn': 'arn:aws:lambda:us-east-1:805433377179:function:predictor',\n",
       " 'Runtime': 'python3.7',\n",
       " 'Role': 'arn:aws:iam::805433377179:role/PersonalizePOCDemo-SageMakerIamRole-125YH74GVVADM',\n",
       " 'Handler': 'predictor.lambda_handler',\n",
       " 'CodeSize': 1410,\n",
       " 'Description': '',\n",
       " 'Timeout': 900,\n",
       " 'MemorySize': 3008,\n",
       " 'LastModified': '2020-07-21T16:04:47.690+0000',\n",
       " 'CodeSha256': 'KyFg5VHMuwavTa2yGKNAPjILb8yqMEygAj59b0YDKaE=',\n",
       " 'Version': '$LATEST',\n",
       " 'TracingConfig': {'Mode': 'PassThrough'},\n",
       " 'RevisionId': 'b6e77c4a-dfd5-4ccf-9312-e943d97b8445',\n",
       " 'State': 'Active',\n",
       " 'LastUpdateStatus': 'Successful'}"
      ]
     },
     "execution_count": 5,
     "metadata": {},
     "output_type": "execute_result"
    }
   ],
   "source": [
    "!rm -f lambdas/createpredictor/predictor.zip\n",
    "!cd lambdas/createpredictor; zip -r predictor .\n",
    "\n",
    "zip_file = open(\"lambdas/createpredictor/predictor.zip\", \"rb\").read()\n",
    "role = 'arn:aws:iam::805433377179:role/PersonalizePOCDemo-SageMakerIamRole-125YH74GVVADM'\n",
    "\n",
    "lambda_.create_function(\n",
    "    FunctionName=\"predictor\",\n",
    "    Runtime=\"python3.7\",\n",
    "    Role=role,\n",
    "    Handler=\"predictor.lambda_handler\",\n",
    "    Code={\"ZipFile\": zip_file},\n",
    "    Timeout=60*15,\n",
    "    MemorySize=3008\n",
    ")"
   ]
  },
  {
   "cell_type": "code",
   "execution_count": 6,
   "metadata": {},
   "outputs": [
    {
     "name": "stdout",
     "output_type": "stream",
     "text": [
      "  adding: getstatuspredictor.py (deflated 41%)\n",
      "  adding: .ipynb_checkpoints/ (stored 0%)\n",
      "  adding: .ipynb_checkpoints/getstatuspredictor-checkpoint.py (deflated 41%)\n"
     ]
    },
    {
     "data": {
      "text/plain": [
       "{'ResponseMetadata': {'RequestId': '67a5e1fa-de59-41cf-915e-712dab140d0e',\n",
       "  'HTTPStatusCode': 201,\n",
       "  'HTTPHeaders': {'date': 'Tue, 21 Jul 2020 16:04:48 GMT',\n",
       "   'content-type': 'application/json',\n",
       "   'content-length': '900',\n",
       "   'connection': 'keep-alive',\n",
       "   'x-amzn-requestid': '67a5e1fa-de59-41cf-915e-712dab140d0e'},\n",
       "  'RetryAttempts': 0},\n",
       " 'FunctionName': 'getstatuspredictor',\n",
       " 'FunctionArn': 'arn:aws:lambda:us-east-1:805433377179:function:getstatuspredictor',\n",
       " 'Runtime': 'python3.7',\n",
       " 'Role': 'arn:aws:iam::805433377179:role/PersonalizePOCDemo-SageMakerIamRole-125YH74GVVADM',\n",
       " 'Handler': 'getstatuspredictor.lambda_handler',\n",
       " 'CodeSize': 1072,\n",
       " 'Description': '',\n",
       " 'Timeout': 900,\n",
       " 'MemorySize': 3008,\n",
       " 'LastModified': '2020-07-21T16:04:48.781+0000',\n",
       " 'CodeSha256': 'U9c/rI7UsdZxDQ9wurQ/krbvQuIegjDX7HUZAJlVKDY=',\n",
       " 'Version': '$LATEST',\n",
       " 'TracingConfig': {'Mode': 'PassThrough'},\n",
       " 'RevisionId': 'c656330e-e16a-4ec1-b6ea-eb80c23f1a83',\n",
       " 'State': 'Active',\n",
       " 'LastUpdateStatus': 'Successful'}"
      ]
     },
     "execution_count": 6,
     "metadata": {},
     "output_type": "execute_result"
    }
   ],
   "source": [
    "!rm -f lambdas/GetStatusPredictor/getstatuspredictor.zip\n",
    "!cd lambdas/GetStatusPredictor; zip -r getstatuspredictor .\n",
    "\n",
    "zip_file = open(\"lambdas/GetStatusPredictor/getstatuspredictor.zip\", \"rb\").read()\n",
    "role = 'arn:aws:iam::805433377179:role/PersonalizePOCDemo-SageMakerIamRole-125YH74GVVADM'\n",
    "\n",
    "lambda_.create_function(\n",
    "    FunctionName=\"getstatuspredictor\",\n",
    "    Runtime=\"python3.7\",\n",
    "    Role=role,\n",
    "    Handler=\"getstatuspredictor.lambda_handler\",\n",
    "    Code={\"ZipFile\": zip_file},\n",
    "    Timeout=60*15,\n",
    "    MemorySize=3008\n",
    ")"
   ]
  },
  {
   "cell_type": "code",
   "execution_count": 7,
   "metadata": {},
   "outputs": [
    {
     "name": "stdout",
     "output_type": "stream",
     "text": [
      "  adding: .ipynb_checkpoints/ (stored 0%)\n",
      "  adding: .ipynb_checkpoints/forecast-checkpoint.py (deflated 38%)\n",
      "  adding: forecast.py (deflated 38%)\n"
     ]
    },
    {
     "data": {
      "text/plain": [
       "{'ResponseMetadata': {'RequestId': 'f23f2acc-92c5-4542-9ca3-b07fb2c9c08a',\n",
       "  'HTTPStatusCode': 201,\n",
       "  'HTTPHeaders': {'date': 'Tue, 21 Jul 2020 16:04:49 GMT',\n",
       "   'content-type': 'application/json',\n",
       "   'content-length': '869',\n",
       "   'connection': 'keep-alive',\n",
       "   'x-amzn-requestid': 'f23f2acc-92c5-4542-9ca3-b07fb2c9c08a'},\n",
       "  'RetryAttempts': 0},\n",
       " 'FunctionName': 'forecast',\n",
       " 'FunctionArn': 'arn:aws:lambda:us-east-1:805433377179:function:forecast',\n",
       " 'Runtime': 'python3.7',\n",
       " 'Role': 'arn:aws:iam::805433377179:role/PersonalizePOCDemo-SageMakerIamRole-125YH74GVVADM',\n",
       " 'Handler': 'forecast.lambda_handler',\n",
       " 'CodeSize': 936,\n",
       " 'Description': '',\n",
       " 'Timeout': 900,\n",
       " 'MemorySize': 3008,\n",
       " 'LastModified': '2020-07-21T16:04:49.780+0000',\n",
       " 'CodeSha256': '65N2nAuvA1khlwVcsBP7RpqZACWJhEFEFFwIphvULNA=',\n",
       " 'Version': '$LATEST',\n",
       " 'TracingConfig': {'Mode': 'PassThrough'},\n",
       " 'RevisionId': '78b78d41-0e36-434e-b244-2701feb0d214',\n",
       " 'State': 'Active',\n",
       " 'LastUpdateStatus': 'Successful'}"
      ]
     },
     "execution_count": 7,
     "metadata": {},
     "output_type": "execute_result"
    }
   ],
   "source": [
    "!rm -f lambdas/createforecast/forecast.zip\n",
    "!cd lambdas/createforecast; zip -r forecast .\n",
    "\n",
    "zip_file = open(\"lambdas/createforecast/forecast.zip\", \"rb\").read()\n",
    "role = 'arn:aws:iam::805433377179:role/PersonalizePOCDemo-SageMakerIamRole-125YH74GVVADM'\n",
    "\n",
    "lambda_.create_function(\n",
    "    FunctionName=\"forecast\",\n",
    "    Runtime=\"python3.7\",\n",
    "    Role=role,\n",
    "    Handler=\"forecast.lambda_handler\",\n",
    "    Code={\"ZipFile\": zip_file},\n",
    "    Timeout=60*15,\n",
    "    MemorySize=3008\n",
    ")"
   ]
  },
  {
   "cell_type": "code",
   "execution_count": 8,
   "metadata": {},
   "outputs": [
    {
     "name": "stdout",
     "output_type": "stream",
     "text": [
      "  adding: getstatusforecast.py (deflated 42%)\n",
      "  adding: .ipynb_checkpoints/ (stored 0%)\n",
      "  adding: .ipynb_checkpoints/getstatusforecast-checkpoint.py (deflated 42%)\n"
     ]
    },
    {
     "data": {
      "text/plain": [
       "{'ResponseMetadata': {'RequestId': 'dd23d5f5-ae1f-46e1-9a8e-a0fea92ff555',\n",
       "  'HTTPStatusCode': 201,\n",
       "  'HTTPHeaders': {'date': 'Tue, 21 Jul 2020 16:04:50 GMT',\n",
       "   'content-type': 'application/json',\n",
       "   'content-length': '897',\n",
       "   'connection': 'keep-alive',\n",
       "   'x-amzn-requestid': 'dd23d5f5-ae1f-46e1-9a8e-a0fea92ff555'},\n",
       "  'RetryAttempts': 0},\n",
       " 'FunctionName': 'getstatusforecast',\n",
       " 'FunctionArn': 'arn:aws:lambda:us-east-1:805433377179:function:getstatusforecast',\n",
       " 'Runtime': 'python3.7',\n",
       " 'Role': 'arn:aws:iam::805433377179:role/PersonalizePOCDemo-SageMakerIamRole-125YH74GVVADM',\n",
       " 'Handler': 'getstatusforecast.lambda_handler',\n",
       " 'CodeSize': 1058,\n",
       " 'Description': '',\n",
       " 'Timeout': 900,\n",
       " 'MemorySize': 3008,\n",
       " 'LastModified': '2020-07-21T16:04:50.823+0000',\n",
       " 'CodeSha256': 'rCDX3oHj4yQxExAeaXxYY8g/VIq9zgu56kKi3hz8Gq0=',\n",
       " 'Version': '$LATEST',\n",
       " 'TracingConfig': {'Mode': 'PassThrough'},\n",
       " 'RevisionId': '7cd72fb8-ba2d-4a75-8110-56c8141ff0e9',\n",
       " 'State': 'Active',\n",
       " 'LastUpdateStatus': 'Successful'}"
      ]
     },
     "execution_count": 8,
     "metadata": {},
     "output_type": "execute_result"
    }
   ],
   "source": [
    "!rm -f lambdas/GetStatusForecast/getstatusforecast.zip\n",
    "!cd lambdas/GetStatusForecast; zip -r getstatusforecast .\n",
    "\n",
    "zip_file = open(\"lambdas/GetStatusForecast/getstatusforecast.zip\", \"rb\").read()\n",
    "role = 'arn:aws:iam::805433377179:role/PersonalizePOCDemo-SageMakerIamRole-125YH74GVVADM'\n",
    "\n",
    "lambda_.create_function(\n",
    "    FunctionName=\"getstatusforecast\",\n",
    "    Runtime=\"python3.7\",\n",
    "    Role=role,\n",
    "    Handler=\"getstatusforecast.lambda_handler\",\n",
    "    Code={\"ZipFile\": zip_file},\n",
    "    Timeout=60*15,\n",
    "    MemorySize=3008\n",
    ")"
   ]
  },
  {
   "cell_type": "code",
   "execution_count": 9,
   "metadata": {},
   "outputs": [
    {
     "name": "stdout",
     "output_type": "stream",
     "text": [
      "  adding: forecastexportjob.py (deflated 47%)\n",
      "  adding: .ipynb_checkpoints/ (stored 0%)\n",
      "  adding: .ipynb_checkpoints/forecastexportjob-checkpoint.py (deflated 47%)\n"
     ]
    },
    {
     "data": {
      "text/plain": [
       "{'ResponseMetadata': {'RequestId': 'b39df0f9-5da9-4de4-ab41-2a08ce58b289',\n",
       "  'HTTPStatusCode': 201,\n",
       "  'HTTPHeaders': {'date': 'Tue, 21 Jul 2020 16:04:51 GMT',\n",
       "   'content-type': 'application/json',\n",
       "   'content-length': '897',\n",
       "   'connection': 'keep-alive',\n",
       "   'x-amzn-requestid': 'b39df0f9-5da9-4de4-ab41-2a08ce58b289'},\n",
       "  'RetryAttempts': 0},\n",
       " 'FunctionName': 'forecastexportjob',\n",
       " 'FunctionArn': 'arn:aws:lambda:us-east-1:805433377179:function:forecastexportjob',\n",
       " 'Runtime': 'python3.7',\n",
       " 'Role': 'arn:aws:iam::805433377179:role/PersonalizePOCDemo-SageMakerIamRole-125YH74GVVADM',\n",
       " 'Handler': 'forecastexportjob.lambda_handler',\n",
       " 'CodeSize': 1204,\n",
       " 'Description': '',\n",
       " 'Timeout': 900,\n",
       " 'MemorySize': 3008,\n",
       " 'LastModified': '2020-07-21T16:04:51.795+0000',\n",
       " 'CodeSha256': 'oxeIwqDrYk/X1xjvtQ2FoQGTEXUT+FMgdhvAvZT7B/Q=',\n",
       " 'Version': '$LATEST',\n",
       " 'TracingConfig': {'Mode': 'PassThrough'},\n",
       " 'RevisionId': '4bc4db99-406c-412e-afea-1e786e77d603',\n",
       " 'State': 'Active',\n",
       " 'LastUpdateStatus': 'Successful'}"
      ]
     },
     "execution_count": 9,
     "metadata": {},
     "output_type": "execute_result"
    }
   ],
   "source": [
    "!rm -f lambdas/createforecastexportjob/forecastexportjob.zip\n",
    "!cd lambdas/createforecastexportjob; zip -r forecastexportjob .\n",
    "\n",
    "zip_file = open(\"lambdas/createforecastexportjob/forecastexportjob.zip\", \"rb\").read()\n",
    "role = 'arn:aws:iam::805433377179:role/PersonalizePOCDemo-SageMakerIamRole-125YH74GVVADM'\n",
    "\n",
    "lambda_.create_function(\n",
    "    FunctionName=\"forecastexportjob\",\n",
    "    Runtime=\"python3.7\",\n",
    "    Role=role,\n",
    "    Handler=\"forecastexportjob.lambda_handler\",\n",
    "    Code={\"ZipFile\": zip_file},\n",
    "    Timeout=60*15,\n",
    "    MemorySize=3008\n",
    ")"
   ]
  },
  {
   "cell_type": "code",
   "execution_count": 12,
   "metadata": {},
   "outputs": [
    {
     "name": "stdout",
     "output_type": "stream",
     "text": [
      "  adding: getstatusforecastexportjob.py (deflated 45%)\n",
      "  adding: .ipynb_checkpoints/ (stored 0%)\n",
      "  adding: .ipynb_checkpoints/getstatusforecastexportjob-checkpoint.py (deflated 45%)\n"
     ]
    },
    {
     "data": {
      "text/plain": [
       "{'ResponseMetadata': {'RequestId': '7cd79c21-c499-4711-bd62-5d2ce3671f74',\n",
       "  'HTTPStatusCode': 201,\n",
       "  'HTTPHeaders': {'date': 'Tue, 21 Jul 2020 16:05:43 GMT',\n",
       "   'content-type': 'application/json',\n",
       "   'content-length': '924',\n",
       "   'connection': 'keep-alive',\n",
       "   'x-amzn-requestid': '7cd79c21-c499-4711-bd62-5d2ce3671f74'},\n",
       "  'RetryAttempts': 0},\n",
       " 'FunctionName': 'getstatusforecastexportjob',\n",
       " 'FunctionArn': 'arn:aws:lambda:us-east-1:805433377179:function:getstatusforecastexportjob',\n",
       " 'Runtime': 'python3.7',\n",
       " 'Role': 'arn:aws:iam::805433377179:role/PersonalizePOCDemo-SageMakerIamRole-125YH74GVVADM',\n",
       " 'Handler': 'getstatusforecastexportjob.lambda_handler',\n",
       " 'CodeSize': 1134,\n",
       " 'Description': '',\n",
       " 'Timeout': 900,\n",
       " 'MemorySize': 3008,\n",
       " 'LastModified': '2020-07-21T16:05:43.775+0000',\n",
       " 'CodeSha256': 'ON84uKZ+2IAGRWS3JFKLY/WI4aBJoByjfvRrZ66R3qs=',\n",
       " 'Version': '$LATEST',\n",
       " 'TracingConfig': {'Mode': 'PassThrough'},\n",
       " 'RevisionId': 'cc9c872a-4c65-488e-97e1-471c66c9af7f',\n",
       " 'State': 'Active',\n",
       " 'LastUpdateStatus': 'Successful'}"
      ]
     },
     "execution_count": 12,
     "metadata": {},
     "output_type": "execute_result"
    }
   ],
   "source": [
    "!rm -f lambdas/GetStatusForecastExportJob/getstatusforecastexportjob.zip\n",
    "!cd lambdas/GetStatusForecastExportJob; zip -r getstatusforecastexportjob .\n",
    "\n",
    "zip_file = open(\"lambdas/GetStatusForecastExportJob/getstatusforecastexportjob.zip\", \"rb\").read()\n",
    "role = 'arn:aws:iam::805433377179:role/PersonalizePOCDemo-SageMakerIamRole-125YH74GVVADM'\n",
    "\n",
    "lambda_.create_function(\n",
    "    FunctionName=\"getstatusforecastexportjob\",\n",
    "    Runtime=\"python3.7\",\n",
    "    Role=role,\n",
    "    Handler=\"getstatusforecastexportjob.lambda_handler\",\n",
    "    Code={\"ZipFile\": zip_file},\n",
    "    Timeout=60*15,\n",
    "    MemorySize=3008\n",
    ")"
   ]
  },
  {
   "cell_type": "code",
   "execution_count": 13,
   "metadata": {},
   "outputs": [
    {
     "name": "stdout",
     "output_type": "stream",
     "text": [
      "  adding: notifyuser.py (deflated 12%)\n",
      "  adding: .ipynb_checkpoints/ (stored 0%)\n",
      "  adding: .ipynb_checkpoints/notifyuser-checkpoint.py (deflated 12%)\n"
     ]
    },
    {
     "data": {
      "text/plain": [
       "{'ResponseMetadata': {'RequestId': '73a879e6-9eea-4dd6-9082-5f8b714aef50',\n",
       "  'HTTPStatusCode': 201,\n",
       "  'HTTPHeaders': {'date': 'Tue, 21 Jul 2020 16:05:48 GMT',\n",
       "   'content-type': 'application/json',\n",
       "   'content-length': '875',\n",
       "   'connection': 'keep-alive',\n",
       "   'x-amzn-requestid': '73a879e6-9eea-4dd6-9082-5f8b714aef50'},\n",
       "  'RetryAttempts': 0},\n",
       " 'FunctionName': 'notifyuser',\n",
       " 'FunctionArn': 'arn:aws:lambda:us-east-1:805433377179:function:notifyuser',\n",
       " 'Runtime': 'python3.7',\n",
       " 'Role': 'arn:aws:iam::805433377179:role/PersonalizePOCDemo-SageMakerIamRole-125YH74GVVADM',\n",
       " 'Handler': 'notifyuser.lambda_handler',\n",
       " 'CodeSize': 730,\n",
       " 'Description': '',\n",
       " 'Timeout': 900,\n",
       " 'MemorySize': 3008,\n",
       " 'LastModified': '2020-07-21T16:05:48.195+0000',\n",
       " 'CodeSha256': '/x6gO1T41r0NYnhsId10EeKNMOkoGk8Y0MgmXHstMBI=',\n",
       " 'Version': '$LATEST',\n",
       " 'TracingConfig': {'Mode': 'PassThrough'},\n",
       " 'RevisionId': '0309c2da-1f80-4dc9-a8a1-170eed6a3dfa',\n",
       " 'State': 'Active',\n",
       " 'LastUpdateStatus': 'Successful'}"
      ]
     },
     "execution_count": 13,
     "metadata": {},
     "output_type": "execute_result"
    }
   ],
   "source": [
    "!rm -f lambdas/NotifyUser/notifyuser.zip\n",
    "!cd lambdas/NotifyUser; zip -r notifyuser .\n",
    "\n",
    "zip_file = open(\"lambdas/NotifyUser/notifyuser.zip\", \"rb\").read()\n",
    "role = 'arn:aws:iam::805433377179:role/PersonalizePOCDemo-SageMakerIamRole-125YH74GVVADM'\n",
    "\n",
    "lambda_.create_function(\n",
    "    FunctionName=\"notifyuser\",\n",
    "    Runtime=\"python3.7\",\n",
    "    Role=role,\n",
    "    Handler=\"notifyuser.lambda_handler\",\n",
    "    Code={\"ZipFile\": zip_file},\n",
    "    Timeout=60*15,\n",
    "    MemorySize=3008\n",
    ")"
   ]
  },
  {
   "cell_type": "markdown",
   "metadata": {},
   "source": [
    "# 2. Step Functins: Create state machine"
   ]
  },
  {
   "cell_type": "code",
   "execution_count": 14,
   "metadata": {},
   "outputs": [],
   "source": [
    "import boto3\n",
    "client = boto3.client('stepfunctions')"
   ]
  },
  {
   "cell_type": "code",
   "execution_count": 15,
   "metadata": {},
   "outputs": [],
   "source": [
    "role='arn:aws:iam::805433377179:role/service-role/StepFunctions-MyStateMachine-role-b95c2d8a'"
   ]
  },
  {
   "cell_type": "code",
   "execution_count": 16,
   "metadata": {},
   "outputs": [
    {
     "data": {
      "text/plain": [
       "{'stateMachineArn': 'arn:aws:states:us-east-1:805433377179:stateMachine:demo-forecast2',\n",
       " 'creationDate': datetime.datetime(2020, 7, 21, 16, 7, 33, 719000, tzinfo=tzlocal()),\n",
       " 'ResponseMetadata': {'RequestId': '68b5c43b-371e-437b-b014-04cc9000a2fe',\n",
       "  'HTTPStatusCode': 200,\n",
       "  'HTTPHeaders': {'x-amzn-requestid': '68b5c43b-371e-437b-b014-04cc9000a2fe',\n",
       "   'content-type': 'application/x-amz-json-1.0',\n",
       "   'content-length': '119'},\n",
       "  'RetryAttempts': 0}}"
      ]
     },
     "execution_count": 16,
     "metadata": {},
     "output_type": "execute_result"
    }
   ],
   "source": [
    "client.create_state_machine(\n",
    "        name=\"demo-forecast2\",\n",
    "        definition=open(\"definition.json\").read(),\n",
    "        roleArn=role\n",
    ")"
   ]
  },
  {
   "cell_type": "markdown",
   "metadata": {},
   "source": [
    "# 3.AWS CloudTrail :create trail  \n",
    "https://boto3.amazonaws.com/v1/documentation/api/1.9.42/reference/services/cloudtrail.html#CloudTrail.Client.create_trail"
   ]
  },
  {
   "cell_type": "code",
   "execution_count": 17,
   "metadata": {},
   "outputs": [
    {
     "name": "stdout",
     "output_type": "stream",
     "text": [
      "boto3==1.14.16\n"
     ]
    }
   ],
   "source": [
    "! pip freeze | grep boto3"
   ]
  },
  {
   "cell_type": "code",
   "execution_count": 18,
   "metadata": {},
   "outputs": [],
   "source": [
    "cloudtrail = boto3.client('cloudtrail')"
   ]
  },
  {
   "cell_type": "code",
   "execution_count": 19,
   "metadata": {},
   "outputs": [
    {
     "name": "stdout",
     "output_type": "stream",
     "text": [
      "805433377179\n"
     ]
    }
   ],
   "source": [
    "sts = boto3.client('sts')\n",
    "id_info = sts.get_caller_identity()\n",
    "print(id_info['Account'])"
   ]
  },
  {
   "cell_type": "code",
   "execution_count": 20,
   "metadata": {},
   "outputs": [],
   "source": [
    "bucket_name = 'demo2-forecast-' + id_info['Account']"
   ]
  },
  {
   "cell_type": "code",
   "execution_count": 21,
   "metadata": {},
   "outputs": [],
   "source": [
    "output_trail_bucket = bucket_name + '-trail'"
   ]
  },
  {
   "cell_type": "code",
   "execution_count": 22,
   "metadata": {},
   "outputs": [
    {
     "data": {
      "text/plain": [
       "{'ResponseMetadata': {'RequestId': '71E29DE890CE0BF4',\n",
       "  'HostId': '1UxXN9rQW4QIso4/vqGQc1TRkZRMMI9z9CPN28Mwh9Gb3rwtUPcYrVT5kBh2edtbjRqoTCaFR/o=',\n",
       "  'HTTPStatusCode': 200,\n",
       "  'HTTPHeaders': {'x-amz-id-2': '1UxXN9rQW4QIso4/vqGQc1TRkZRMMI9z9CPN28Mwh9Gb3rwtUPcYrVT5kBh2edtbjRqoTCaFR/o=',\n",
       "   'x-amz-request-id': '71E29DE890CE0BF4',\n",
       "   'date': 'Tue, 21 Jul 2020 16:08:10 GMT',\n",
       "   'location': '/demo2-forecast-805433377179-trail',\n",
       "   'content-length': '0',\n",
       "   'server': 'AmazonS3'},\n",
       "  'RetryAttempts': 0},\n",
       " 'Location': '/demo2-forecast-805433377179-trail'}"
      ]
     },
     "execution_count": 22,
     "metadata": {},
     "output_type": "execute_result"
    }
   ],
   "source": [
    "s3 = boto3.client('s3')\n",
    "s3.create_bucket(Bucket=output_trail_bucket)"
   ]
  },
  {
   "cell_type": "markdown",
   "metadata": {},
   "source": [
    "## set bucket policy"
   ]
  },
  {
   "attachments": {
    "image.png": {
     "image/png": "[encoded data removed]"
    }
   },
   "cell_type": "markdown",
   "metadata": {},
   "source": [
    "![image.png](attachment:image.png)"
   ]
  },
  {
   "cell_type": "code",
   "execution_count": 23,
   "metadata": {},
   "outputs": [
    {
     "data": {
      "text/plain": [
       "{'Version': '2012-10-17',\n",
       " 'Statement': [{'Sid': 'AWSCloudTrailAclCheck20150319',\n",
       "   'Effect': 'Allow',\n",
       "   'Principal': {'Service': 'cloudtrail.amazonaws.com'},\n",
       "   'Action': 's3:GetBucketAcl',\n",
       "   'Resource': 'arn:aws:s3:::demo2-forecast-805433377179-trail'},\n",
       "  {'Sid': 'AWSCloudTrailWrite20150319',\n",
       "   'Effect': 'Allow',\n",
       "   'Principal': {'Service': 'cloudtrail.amazonaws.com'},\n",
       "   'Action': 's3:PutObject',\n",
       "   'Resource': 'arn:aws:s3:::demo2-forecast-805433377179-trail/AWSLogs/805433377179/*',\n",
       "   'Condition': {'StringEquals': {'s3:x-amz-acl': 'bucket-owner-full-control'}}}]}"
      ]
     },
     "execution_count": 23,
     "metadata": {},
     "output_type": "execute_result"
    }
   ],
   "source": [
    "{\n",
    "    \"Version\": \"2012-10-17\",\n",
    "    \"Statement\": [\n",
    "        {\n",
    "            \"Sid\": \"AWSCloudTrailAclCheck20150319\",\n",
    "            \"Effect\": \"Allow\",\n",
    "            \"Principal\": {\n",
    "                \"Service\": \"cloudtrail.amazonaws.com\"\n",
    "            },\n",
    "            \"Action\": \"s3:GetBucketAcl\",\n",
    "            \"Resource\": \"arn:aws:s3:::demo2-forecast-805433377179-trail\"\n",
    "        },\n",
    "        {\n",
    "            \"Sid\": \"AWSCloudTrailWrite20150319\",\n",
    "            \"Effect\": \"Allow\",\n",
    "            \"Principal\": {\n",
    "                \"Service\": \"cloudtrail.amazonaws.com\"\n",
    "            },\n",
    "            \"Action\": \"s3:PutObject\",\n",
    "            \"Resource\": \"arn:aws:s3:::demo2-forecast-805433377179-trail/AWSLogs/805433377179/*\",\n",
    "            \"Condition\": {\n",
    "                \"StringEquals\": {\n",
    "                    \"s3:x-amz-acl\": \"bucket-owner-full-control\"\n",
    "                }\n",
    "            }\n",
    "        }\n",
    "    ]\n",
    "}"
   ]
  },
  {
   "cell_type": "code",
   "execution_count": 25,
   "metadata": {},
   "outputs": [
    {
     "data": {
      "text/plain": [
       "{'Name': 'forecast-trail',\n",
       " 'S3BucketName': 'demo2-forecast-805433377179-trail',\n",
       " 'IncludeGlobalServiceEvents': True,\n",
       " 'IsMultiRegionTrail': False,\n",
       " 'TrailARN': 'arn:aws:cloudtrail:us-east-1:805433377179:trail/forecast-trail',\n",
       " 'LogFileValidationEnabled': False,\n",
       " 'IsOrganizationTrail': False,\n",
       " 'ResponseMetadata': {'RequestId': 'bce3cffa-ce11-4217-bb91-bb585e6b43f4',\n",
       "  'HTTPStatusCode': 200,\n",
       "  'HTTPHeaders': {'x-amzn-requestid': 'bce3cffa-ce11-4217-bb91-bb585e6b43f4',\n",
       "   'content-type': 'application/x-amz-json-1.1',\n",
       "   'content-length': '274',\n",
       "   'date': 'Tue, 21 Jul 2020 16:15:49 GMT'},\n",
       "  'RetryAttempts': 0}}"
      ]
     },
     "execution_count": 25,
     "metadata": {},
     "output_type": "execute_result"
    }
   ],
   "source": [
    "cloudtrail.create_trail(\n",
    "    Name='forecast-trail',\n",
    "    S3BucketName=output_trail_bucket\n",
    ")"
   ]
  },
  {
   "cell_type": "code",
   "execution_count": 26,
   "metadata": {},
   "outputs": [
    {
     "data": {
      "text/plain": [
       "{'TrailARN': 'arn:aws:cloudtrail:us-east-1:805433377179:trail/forecast-trail',\n",
       " 'EventSelectors': [{'ReadWriteType': 'All',\n",
       "   'IncludeManagementEvents': True,\n",
       "   'DataResources': [{'Type': 'AWS::S3::Object',\n",
       "     'Values': ['arn:aws:s3:::demo2-forecast-805433377179/']}],\n",
       "   'ExcludeManagementEventSources': []}],\n",
       " 'ResponseMetadata': {'RequestId': 'bb90457c-54cf-417f-a9d3-7ec78981b2dc',\n",
       "  'HTTPStatusCode': 200,\n",
       "  'HTTPHeaders': {'x-amzn-requestid': 'bb90457c-54cf-417f-a9d3-7ec78981b2dc',\n",
       "   'content-type': 'application/x-amz-json-1.1',\n",
       "   'content-length': '286',\n",
       "   'date': 'Tue, 21 Jul 2020 16:15:54 GMT'},\n",
       "  'RetryAttempts': 0}}"
      ]
     },
     "execution_count": 26,
     "metadata": {},
     "output_type": "execute_result"
    }
   ],
   "source": [
    "cloudtrail.put_event_selectors(\n",
    "    TrailName='forecast-trail',\n",
    "    EventSelectors=[\n",
    "        {\n",
    "            'ReadWriteType': 'All',\n",
    "            'IncludeManagementEvents': True,\n",
    "            'DataResources': [\n",
    "                {\n",
    "                    'Type': 'AWS::S3::Object',\n",
    "                    'Values': [\n",
    "                        f'arn:aws:s3:::{bucket_name}/',\n",
    "                    ]\n",
    "                },\n",
    "            ]\n",
    "        },\n",
    "    ]\n",
    ")"
   ]
  },
  {
   "cell_type": "code",
   "execution_count": 27,
   "metadata": {},
   "outputs": [
    {
     "data": {
      "text/plain": [
       "{'trailList': [{'Name': 'IsengardTrail-DO-NOT-DELETE',\n",
       "   'S3BucketName': 'cloudtrail-awslogs-805433377179-ldutrjkl-isengard-do-not-delete',\n",
       "   'IncludeGlobalServiceEvents': True,\n",
       "   'IsMultiRegionTrail': True,\n",
       "   'HomeRegion': 'us-east-1',\n",
       "   'TrailARN': 'arn:aws:cloudtrail:us-east-1:805433377179:trail/IsengardTrail-DO-NOT-DELETE',\n",
       "   'LogFileValidationEnabled': True,\n",
       "   'HasCustomEventSelectors': False,\n",
       "   'HasInsightSelectors': False,\n",
       "   'IsOrganizationTrail': False},\n",
       "  {'Name': 'forecast-trail',\n",
       "   'S3BucketName': 'demo2-forecast-805433377179-trail',\n",
       "   'IncludeGlobalServiceEvents': True,\n",
       "   'IsMultiRegionTrail': False,\n",
       "   'HomeRegion': 'us-east-1',\n",
       "   'TrailARN': 'arn:aws:cloudtrail:us-east-1:805433377179:trail/forecast-trail',\n",
       "   'LogFileValidationEnabled': False,\n",
       "   'HasCustomEventSelectors': True,\n",
       "   'HasInsightSelectors': False,\n",
       "   'IsOrganizationTrail': False}],\n",
       " 'ResponseMetadata': {'RequestId': '62e291f7-7ad8-4321-9c88-dbb94ac53cd8',\n",
       "  'HTTPStatusCode': 200,\n",
       "  'HTTPHeaders': {'x-amzn-requestid': '62e291f7-7ad8-4321-9c88-dbb94ac53cd8',\n",
       "   'content-type': 'application/x-amz-json-1.1',\n",
       "   'content-length': '788',\n",
       "   'date': 'Tue, 21 Jul 2020 16:16:00 GMT'},\n",
       "  'RetryAttempts': 0}}"
      ]
     },
     "execution_count": 27,
     "metadata": {},
     "output_type": "execute_result"
    }
   ],
   "source": [
    "### Confirmation\n",
    "cloudtrail.describe_trails()"
   ]
  },
  {
   "cell_type": "code",
   "execution_count": 28,
   "metadata": {},
   "outputs": [
    {
     "data": {
      "text/plain": [
       "{'TrailARN': 'arn:aws:cloudtrail:us-east-1:805433377179:trail/forecast-trail',\n",
       " 'EventSelectors': [{'ReadWriteType': 'All',\n",
       "   'IncludeManagementEvents': True,\n",
       "   'DataResources': [{'Type': 'AWS::S3::Object',\n",
       "     'Values': ['arn:aws:s3:::demo2-forecast-805433377179/']}],\n",
       "   'ExcludeManagementEventSources': []}],\n",
       " 'ResponseMetadata': {'RequestId': '70c65504-7aed-46a1-9606-d4598d506a0a',\n",
       "  'HTTPStatusCode': 200,\n",
       "  'HTTPHeaders': {'x-amzn-requestid': '70c65504-7aed-46a1-9606-d4598d506a0a',\n",
       "   'content-type': 'application/x-amz-json-1.1',\n",
       "   'content-length': '286',\n",
       "   'date': 'Tue, 21 Jul 2020 16:16:01 GMT'},\n",
       "  'RetryAttempts': 0}}"
      ]
     },
     "execution_count": 28,
     "metadata": {},
     "output_type": "execute_result"
    }
   ],
   "source": [
    "### Confirmation\n",
    "cloudtrail.get_event_selectors(\n",
    "    TrailName='forecast-trail'\n",
    ")"
   ]
  },
  {
   "cell_type": "markdown",
   "metadata": {},
   "source": [
    "# 4.CloudWatch Event: build a rule\n",
    "https://boto3.amazonaws.com/v1/documentation/api/1.9.42/reference/services/events.html\n",
    "\n",
    "\n",
    "put_rule(): create rule  \n",
    "https://boto3.amazonaws.com/v1/documentation/api/1.9.42/reference/services/events.html#CloudWatchEvents.Client.put_rule\n"
   ]
  },
  {
   "cell_type": "code",
   "execution_count": 29,
   "metadata": {},
   "outputs": [
    {
     "data": {
      "text/plain": [
       "'demo2-forecast-805433377179'"
      ]
     },
     "execution_count": 29,
     "metadata": {},
     "output_type": "execute_result"
    }
   ],
   "source": [
    "bucket_name"
   ]
  },
  {
   "cell_type": "code",
   "execution_count": 30,
   "metadata": {},
   "outputs": [],
   "source": [
    "cwe = boto3.client('events')"
   ]
  },
  {
   "cell_type": "code",
   "execution_count": 31,
   "metadata": {},
   "outputs": [],
   "source": [
    "ep_str ='{\"source\":[\"aws.s3\"], \\\n",
    "        \"detail-type\":[\"AWS API Call via CloudTrail\"], \\\n",
    "        \"detail\":{\"eventSource\":[\"s3.amazonaws.com\"], \\\n",
    "        \"eventName\":[\"PutObject\"], \\\n",
    "        \"requestParameters\":{\"bucketName\":[\"'+ bucket_name + '\"]}}}'"
   ]
  },
  {
   "cell_type": "code",
   "execution_count": 32,
   "metadata": {},
   "outputs": [
    {
     "data": {
      "text/plain": [
       "'{\"source\":[\"aws.s3\"],         \"detail-type\":[\"AWS API Call via CloudTrail\"],         \"detail\":{\"eventSource\":[\"s3.amazonaws.com\"],         \"eventName\":[\"PutObject\"],         \"requestParameters\":{\"bucketName\":[\"demo2-forecast-805433377179\"]}}}'"
      ]
     },
     "execution_count": 32,
     "metadata": {},
     "output_type": "execute_result"
    }
   ],
   "source": [
    "ep_str"
   ]
  },
  {
   "cell_type": "code",
   "execution_count": 33,
   "metadata": {},
   "outputs": [
    {
     "data": {
      "text/plain": [
       "{'RuleArn': 'arn:aws:events:us-east-1:805433377179:rule/demo-forecast2',\n",
       " 'ResponseMetadata': {'RequestId': '6e952799-f169-4bcd-8039-3d6fdaf30317',\n",
       "  'HTTPStatusCode': 200,\n",
       "  'HTTPHeaders': {'x-amzn-requestid': '6e952799-f169-4bcd-8039-3d6fdaf30317',\n",
       "   'content-type': 'application/x-amz-json-1.1',\n",
       "   'content-length': '71',\n",
       "   'date': 'Tue, 21 Jul 2020 16:16:53 GMT'},\n",
       "  'RetryAttempts': 0}}"
      ]
     },
     "execution_count": 33,
     "metadata": {},
     "output_type": "execute_result"
    }
   ],
   "source": [
    "cwe.put_rule(\n",
    "    Name='demo-forecast2',\n",
    "    EventPattern=ep_str,\n",
    "    State='ENABLED'\n",
    ")"
   ]
  },
  {
   "cell_type": "code",
   "execution_count": 34,
   "metadata": {},
   "outputs": [
    {
     "data": {
      "text/plain": [
       "{'Targets': [{'Id': 'forecast',\n",
       "   'Arn': 'arn:aws:states:us-east-1:805433377179:stateMachine:demo-forecast',\n",
       "   'RoleArn': 'arn:aws:iam::805433377179:role/service-role/AWS_Events_Invoke_Step_Functions_415081912'}],\n",
       " 'ResponseMetadata': {'RequestId': '8efa1572-84e0-4deb-baa1-130b79f573ac',\n",
       "  'HTTPStatusCode': 200,\n",
       "  'HTTPHeaders': {'x-amzn-requestid': '8efa1572-84e0-4deb-baa1-130b79f573ac',\n",
       "   'content-type': 'application/x-amz-json-1.1',\n",
       "   'content-length': '203',\n",
       "   'date': 'Tue, 21 Jul 2020 16:16:55 GMT'},\n",
       "  'RetryAttempts': 0}}"
      ]
     },
     "execution_count": 34,
     "metadata": {},
     "output_type": "execute_result"
    }
   ],
   "source": [
    "### confirmation\n",
    "cwe.list_targets_by_rule(Rule='demo-forecast2')"
   ]
  },
  {
   "cell_type": "code",
   "execution_count": 35,
   "metadata": {},
   "outputs": [
    {
     "data": {
      "text/plain": [
       "{'FailedEntryCount': 0,\n",
       " 'FailedEntries': [],\n",
       " 'ResponseMetadata': {'RequestId': '93bf4767-c81f-47d8-827a-c051d79f49ad',\n",
       "  'HTTPStatusCode': 200,\n",
       "  'HTTPHeaders': {'x-amzn-requestid': '93bf4767-c81f-47d8-827a-c051d79f49ad',\n",
       "   'content-type': 'application/x-amz-json-1.1',\n",
       "   'content-length': '41',\n",
       "   'date': 'Tue, 21 Jul 2020 16:16:58 GMT'},\n",
       "  'RetryAttempts': 0}}"
      ]
     },
     "execution_count": 35,
     "metadata": {},
     "output_type": "execute_result"
    }
   ],
   "source": [
    "cwe.put_targets(\n",
    "    Rule='demo-forecast2',\n",
    "    Targets=[\n",
    "        {\n",
    "            'Id': 'forecast',\n",
    "            'Arn': 'arn:aws:states:us-east-1:805433377179:stateMachine:demo-forecast',\n",
    "            'RoleArn': 'arn:aws:iam::805433377179:role/service-role/StepFunctions-MyStateMachine-role-b95c2d8a'\n",
    "        }\n",
    "    ]\n",
    ")"
   ]
  },
  {
   "cell_type": "markdown",
   "metadata": {},
   "source": [
    "# 5.Put additional file into S3"
   ]
  },
  {
   "cell_type": "code",
   "execution_count": 36,
   "metadata": {},
   "outputs": [
    {
     "data": {
      "text/plain": [
       "'demo2-forecast-805433377179'"
      ]
     },
     "execution_count": 36,
     "metadata": {},
     "output_type": "execute_result"
    }
   ],
   "source": [
    "bucket_name"
   ]
  },
  {
   "cell_type": "code",
   "execution_count": 43,
   "metadata": {},
   "outputs": [],
   "source": [
    "s3 = boto3.resource('s3')\n",
    "bucket = s3.Bucket(bucket_name)\n",
    "\n",
    "bucket.upload_file('./output/tr_target_add_20091201_20101209.csv', 'input/tr_target_add_20091201_20101209.csv')"
   ]
  },
  {
   "cell_type": "code",
   "execution_count": null,
   "metadata": {},
   "outputs": [],
   "source": []
  }
 ],
 "metadata": {
  "kernelspec": {
   "display_name": "conda_python3",
   "language": "python",
   "name": "conda_python3"
  },
  "language_info": {
   "codemirror_mode": {
    "name": "ipython",
    "version": 3
   },
   "file_extension": ".py",
   "mimetype": "text/x-python",
   "name": "python",
   "nbconvert_exporter": "python",
   "pygments_lexer": "ipython3",
   "version": "3.6.10"
  }
 },
 "nbformat": 4,
 "nbformat_minor": 4
}
