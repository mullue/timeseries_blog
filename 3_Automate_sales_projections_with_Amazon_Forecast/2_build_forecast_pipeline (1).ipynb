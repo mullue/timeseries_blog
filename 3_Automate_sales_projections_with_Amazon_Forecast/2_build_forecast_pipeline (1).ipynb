{
 "cells": [
  {
   "cell_type": "markdown",
   "metadata": {},
   "source": [
    "# Building an Automated Pipeline for Amazon Forecast\n",
    "When a file is put in S3 with data for training, build a pipeline that automatically performs data import, training, forecasting, and exporting of predictions in Amazon Forecast.\n",
    "We use Step Functions and Lambda."
   ]
  },
  {
   "cell_type": "markdown",
   "metadata": {},
   "source": [
    "# Configure SageMaker role\n",
    "Attach policies for the services you use and also set up trust relationships, as shown in the figure below."
   ]
  },
  {
   "cell_type": "markdown",
   "metadata": {},
   "source": [
    "![IAMroles_Permissions](https://user-images.githubusercontent.com/27226946/89102049-7d18e380-d440-11ea-91a6-6ab2c7e63870.png)"
   ]
  },
  {
   "cell_type": "markdown",
   "metadata": {},
   "source": [
    "![IAMroles_TrustRelationships](https://user-images.githubusercontent.com/27226946/89102054-84d88800-d440-11ea-9199-0583be09aa1c.png)"
   ]
  },
  {
   "cell_type": "markdown",
   "metadata": {},
   "source": [
    "Edit trust relationship should be written as follows."
   ]
  },
  {
   "cell_type": "code",
   "execution_count": null,
   "metadata": {},
   "outputs": [],
   "source": [
    "{\n",
    "  \"Version\": \"2012-10-17\",\n",
    "  \"Statement\": [\n",
    "    {\n",
    "      \"Effect\": \"Allow\",\n",
    "      \"Principal\": {\n",
    "        \"Service\": \"sagemaker.amazonaws.com\"\n",
    "      },\n",
    "      \"Action\": \"sts:AssumeRole\"\n",
    "    },\n",
    "    {\n",
    "      \"Effect\": \"Allow\",\n",
    "      \"Principal\": {\n",
    "        \"Service\": \"forecast.amazonaws.com\"\n",
    "      },\n",
    "      \"Action\": \"sts:AssumeRole\"\n",
    "    },\n",
    "    {\n",
    "      \"Effect\": \"Allow\",\n",
    "      \"Principal\": {\n",
    "        \"Service\": \"lambda.amazonaws.com\"\n",
    "      },\n",
    "      \"Action\": \"sts:AssumeRole\"\n",
    "    },\n",
    "    {\n",
    "      \"Effect\": \"Allow\",\n",
    "      \"Principal\": {\n",
    "        \"Service\": \"events.amazonaws.com\"\n",
    "      },\n",
    "      \"Action\": \"sts:AssumeRole\"\n",
    "    },\n",
    "    {\n",
    "      \"Effect\": \"Allow\",\n",
    "      \"Principal\": {\n",
    "        \"Service\": \"states.amazonaws.com\"\n",
    "      },\n",
    "      \"Action\": \"sts:AssumeRole\"\n",
    "    }\n",
    "  ]\n",
    "}"
   ]
  },
  {
   "cell_type": "markdown",
   "metadata": {},
   "source": [
    "## Getting SageMaker role"
   ]
  },
  {
   "cell_type": "code",
   "execution_count": 1,
   "metadata": {},
   "outputs": [],
   "source": [
    "from sagemaker import get_execution_role\n",
    "\n",
    "role_sm = get_execution_role()"
   ]
  },
  {
   "cell_type": "code",
   "execution_count": 2,
   "metadata": {},
   "outputs": [
    {
     "data": {
      "text/plain": [
       "'arn:aws:iam::805433377179:role/service-role/AmazonSageMaker-ExecutionRole-20200716T084970'"
      ]
     },
     "execution_count": 2,
     "metadata": {},
     "output_type": "execute_result"
    }
   ],
   "source": [
    "role_sm"
   ]
  },
  {
   "cell_type": "markdown",
   "metadata": {},
   "source": [
    "# 1.make Lambda function\n",
    "We will create a Lambda function. The files we will use are located in lambdas/."
   ]
  },
  {
   "cell_type": "code",
   "execution_count": 3,
   "metadata": {},
   "outputs": [],
   "source": [
    "import boto3"
   ]
  },
  {
   "cell_type": "code",
   "execution_count": 4,
   "metadata": {},
   "outputs": [],
   "source": [
    "lambda_ = boto3.client('lambda')"
   ]
  },
  {
   "cell_type": "code",
   "execution_count": 5,
   "metadata": {},
   "outputs": [
    {
     "name": "stdout",
     "output_type": "stream",
     "text": [
      "  adding: datasetimport.py (deflated 54%)\n"
     ]
    },
    {
     "data": {
      "text/plain": [
       "{'ResponseMetadata': {'RequestId': 'b1616ceb-ed4b-4960-9053-74c7b6014efd',\n",
       "  'HTTPStatusCode': 201,\n",
       "  'HTTPHeaders': {'date': 'Sat, 01 Aug 2020 04:58:21 GMT',\n",
       "   'content-type': 'application/json',\n",
       "   'content-length': '893',\n",
       "   'connection': 'keep-alive',\n",
       "   'x-amzn-requestid': 'b1616ceb-ed4b-4960-9053-74c7b6014efd'},\n",
       "  'RetryAttempts': 0},\n",
       " 'FunctionName': 'datasetimport',\n",
       " 'FunctionArn': 'arn:aws:lambda:us-east-1:805433377179:function:datasetimport',\n",
       " 'Runtime': 'python3.7',\n",
       " 'Role': 'arn:aws:iam::805433377179:role/service-role/AmazonSageMaker-ExecutionRole-20200716T084970',\n",
       " 'Handler': 'datasetimport.lambda_handler',\n",
       " 'CodeSize': 563,\n",
       " 'Description': '',\n",
       " 'Timeout': 900,\n",
       " 'MemorySize': 3008,\n",
       " 'LastModified': '2020-08-01T04:58:21.089+0000',\n",
       " 'CodeSha256': '30T3uMu47wgeOsG6npZy2utPjmZuV4pGj3VUCVXtCgY=',\n",
       " 'Version': '$LATEST',\n",
       " 'TracingConfig': {'Mode': 'PassThrough'},\n",
       " 'RevisionId': '2d3b8aef-8d87-4af0-9f15-6802ebc49bd3',\n",
       " 'State': 'Active',\n",
       " 'LastUpdateStatus': 'Successful'}"
      ]
     },
     "execution_count": 5,
     "metadata": {},
     "output_type": "execute_result"
    }
   ],
   "source": [
    "!rm -f lambdas/createdatasetimport/datasetimport.zip\n",
    "!cd lambdas/createdatasetimport; zip -r datasetimport .\n",
    "\n",
    "zip_file = open(\"lambdas/createdatasetimport/datasetimport.zip\", \"rb\").read()\n",
    "\n",
    "\n",
    "lambda_.create_function(\n",
    "    FunctionName=\"datasetimport\",\n",
    "    Runtime=\"python3.7\",\n",
    "    Role=role_sm,\n",
    "    Handler=\"datasetimport.lambda_handler\",\n",
    "    Code={\"ZipFile\": zip_file},\n",
    "    Timeout=60*15,\n",
    "    MemorySize=3008\n",
    ")"
   ]
  },
  {
   "cell_type": "code",
   "execution_count": 44,
   "metadata": {},
   "outputs": [
    {
     "name": "stdout",
     "output_type": "stream",
     "text": [
      "  adding: .ipynb_checkpoints/ (stored 0%)\n",
      "  adding: .ipynb_checkpoints/getstatusimport-checkpoint.py (deflated 46%)\n",
      "  adding: getstatusimport.py (deflated 46%)\n"
     ]
    },
    {
     "data": {
      "text/plain": [
       "{'ResponseMetadata': {'RequestId': 'e1675de0-4efb-4423-a459-70c911ed836b',\n",
       "  'HTTPStatusCode': 201,\n",
       "  'HTTPHeaders': {'date': 'Sat, 01 Aug 2020 05:05:50 GMT',\n",
       "   'content-type': 'application/json',\n",
       "   'content-length': '899',\n",
       "   'connection': 'keep-alive',\n",
       "   'x-amzn-requestid': 'e1675de0-4efb-4423-a459-70c911ed836b'},\n",
       "  'RetryAttempts': 1},\n",
       " 'FunctionName': 'getstatusimport',\n",
       " 'FunctionArn': 'arn:aws:lambda:us-east-1:805433377179:function:getstatusimport',\n",
       " 'Runtime': 'python3.7',\n",
       " 'Role': 'arn:aws:iam::805433377179:role/service-role/AmazonSageMaker-ExecutionRole-20200716T084970',\n",
       " 'Handler': 'getstatusimport.lambda_handler',\n",
       " 'CodeSize': 976,\n",
       " 'Description': '',\n",
       " 'Timeout': 900,\n",
       " 'MemorySize': 3008,\n",
       " 'LastModified': '2020-08-01T05:05:50.737+0000',\n",
       " 'CodeSha256': '9mvwQunGCFr8xb7i0Ig/NhV72+CkMG+Aif5qoliSQNU=',\n",
       " 'Version': '$LATEST',\n",
       " 'TracingConfig': {'Mode': 'PassThrough'},\n",
       " 'RevisionId': '433429d4-8a98-4a61-867e-cb2efab5ea09',\n",
       " 'State': 'Active',\n",
       " 'LastUpdateStatus': 'Successful'}"
      ]
     },
     "execution_count": 44,
     "metadata": {},
     "output_type": "execute_result"
    }
   ],
   "source": [
    "!rm -f lambdas/GetStatusImport/getstatusimport.zip\n",
    "!cd lambdas/GetStatusImport; zip -r getstatusimport .\n",
    "\n",
    "zip_file = open(\"lambdas/GetStatusImport/getstatusimport.zip\", \"rb\").read()\n",
    "\n",
    "lambda_.create_function(\n",
    "    FunctionName=\"getstatusimport\",\n",
    "    Runtime=\"python3.7\",\n",
    "    Role=role_sm,\n",
    "    Handler=\"getstatusimport.lambda_handler\",\n",
    "    Code={\"ZipFile\": zip_file},\n",
    "    Timeout=60*15,\n",
    "    MemorySize=3008\n",
    ")"
   ]
  },
  {
   "cell_type": "code",
   "execution_count": 7,
   "metadata": {},
   "outputs": [
    {
     "name": "stdout",
     "output_type": "stream",
     "text": [
      "  adding: predictor.py (deflated 56%)\n"
     ]
    },
    {
     "data": {
      "text/plain": [
       "{'ResponseMetadata': {'RequestId': '32c4dbda-4c9d-4952-bf78-f95d7f095021',\n",
       "  'HTTPStatusCode': 201,\n",
       "  'HTTPHeaders': {'date': 'Sat, 01 Aug 2020 04:58:23 GMT',\n",
       "   'content-type': 'application/json',\n",
       "   'content-length': '881',\n",
       "   'connection': 'keep-alive',\n",
       "   'x-amzn-requestid': '32c4dbda-4c9d-4952-bf78-f95d7f095021'},\n",
       "  'RetryAttempts': 0},\n",
       " 'FunctionName': 'predictor',\n",
       " 'FunctionArn': 'arn:aws:lambda:us-east-1:805433377179:function:predictor',\n",
       " 'Runtime': 'python3.7',\n",
       " 'Role': 'arn:aws:iam::805433377179:role/service-role/AmazonSageMaker-ExecutionRole-20200716T084970',\n",
       " 'Handler': 'predictor.lambda_handler',\n",
       " 'CodeSize': 645,\n",
       " 'Description': '',\n",
       " 'Timeout': 900,\n",
       " 'MemorySize': 3008,\n",
       " 'LastModified': '2020-08-01T04:58:23.829+0000',\n",
       " 'CodeSha256': 'ozekRr7hwZFxQxduOnRc7zUB8yRzFMFFIkSxbDr80cg=',\n",
       " 'Version': '$LATEST',\n",
       " 'TracingConfig': {'Mode': 'PassThrough'},\n",
       " 'RevisionId': '9a224cb0-0f08-46d5-9421-56c1328dc488',\n",
       " 'State': 'Active',\n",
       " 'LastUpdateStatus': 'Successful'}"
      ]
     },
     "execution_count": 7,
     "metadata": {},
     "output_type": "execute_result"
    }
   ],
   "source": [
    "!rm -f lambdas/createpredictor/predictor.zip\n",
    "!cd lambdas/createpredictor; zip -r predictor .\n",
    "\n",
    "zip_file = open(\"lambdas/createpredictor/predictor.zip\", \"rb\").read()\n",
    "\n",
    "lambda_.create_function(\n",
    "    FunctionName=\"predictor\",\n",
    "    Runtime=\"python3.7\",\n",
    "    Role=role_sm,\n",
    "    Handler=\"predictor.lambda_handler\",\n",
    "    Code={\"ZipFile\": zip_file},\n",
    "    Timeout=60*15,\n",
    "    MemorySize=3008\n",
    ")"
   ]
  },
  {
   "cell_type": "code",
   "execution_count": 8,
   "metadata": {},
   "outputs": [
    {
     "name": "stdout",
     "output_type": "stream",
     "text": [
      "  adding: getstatuspredictor.py (deflated 46%)\n"
     ]
    },
    {
     "data": {
      "text/plain": [
       "{'ResponseMetadata': {'RequestId': '3d726efa-df40-48f3-a1b7-5c0c2e7475b1',\n",
       "  'HTTPStatusCode': 201,\n",
       "  'HTTPHeaders': {'date': 'Sat, 01 Aug 2020 04:58:24 GMT',\n",
       "   'content-type': 'application/json',\n",
       "   'content-length': '908',\n",
       "   'connection': 'keep-alive',\n",
       "   'x-amzn-requestid': '3d726efa-df40-48f3-a1b7-5c0c2e7475b1'},\n",
       "  'RetryAttempts': 0},\n",
       " 'FunctionName': 'getstatuspredictor',\n",
       " 'FunctionArn': 'arn:aws:lambda:us-east-1:805433377179:function:getstatuspredictor',\n",
       " 'Runtime': 'python3.7',\n",
       " 'Role': 'arn:aws:iam::805433377179:role/service-role/AmazonSageMaker-ExecutionRole-20200716T084970',\n",
       " 'Handler': 'getstatuspredictor.lambda_handler',\n",
       " 'CodeSize': 382,\n",
       " 'Description': '',\n",
       " 'Timeout': 900,\n",
       " 'MemorySize': 3008,\n",
       " 'LastModified': '2020-08-01T04:58:24.873+0000',\n",
       " 'CodeSha256': 'U6OA69b4ByECTijrgQPYBZWZt0zq1em5fs/aX19mcJg=',\n",
       " 'Version': '$LATEST',\n",
       " 'TracingConfig': {'Mode': 'PassThrough'},\n",
       " 'RevisionId': '00d21d71-ef98-44f0-bad0-422681a7c422',\n",
       " 'State': 'Active',\n",
       " 'LastUpdateStatus': 'Successful'}"
      ]
     },
     "execution_count": 8,
     "metadata": {},
     "output_type": "execute_result"
    }
   ],
   "source": [
    "!rm -f lambdas/GetStatusPredictor/getstatuspredictor.zip\n",
    "!cd lambdas/GetStatusPredictor; zip -r getstatuspredictor .\n",
    "\n",
    "zip_file = open(\"lambdas/GetStatusPredictor/getstatuspredictor.zip\", \"rb\").read()\n",
    "\n",
    "lambda_.create_function(\n",
    "    FunctionName=\"getstatuspredictor\",\n",
    "    Runtime=\"python3.7\",\n",
    "    Role=role_sm,\n",
    "    Handler=\"getstatuspredictor.lambda_handler\",\n",
    "    Code={\"ZipFile\": zip_file},\n",
    "    Timeout=60*15,\n",
    "    MemorySize=3008\n",
    ")"
   ]
  },
  {
   "cell_type": "code",
   "execution_count": 9,
   "metadata": {},
   "outputs": [
    {
     "name": "stdout",
     "output_type": "stream",
     "text": [
      "  adding: forecast.py (deflated 45%)\n"
     ]
    },
    {
     "data": {
      "text/plain": [
       "{'ResponseMetadata': {'RequestId': 'ae7b4859-fcd1-4c04-bcc2-60f8cfaa1fdd',\n",
       "  'HTTPStatusCode': 201,\n",
       "  'HTTPHeaders': {'date': 'Sat, 01 Aug 2020 04:58:26 GMT',\n",
       "   'content-type': 'application/json',\n",
       "   'content-length': '878',\n",
       "   'connection': 'keep-alive',\n",
       "   'x-amzn-requestid': 'ae7b4859-fcd1-4c04-bcc2-60f8cfaa1fdd'},\n",
       "  'RetryAttempts': 0},\n",
       " 'FunctionName': 'forecast',\n",
       " 'FunctionArn': 'arn:aws:lambda:us-east-1:805433377179:function:forecast',\n",
       " 'Runtime': 'python3.7',\n",
       " 'Role': 'arn:aws:iam::805433377179:role/service-role/AmazonSageMaker-ExecutionRole-20200716T084970',\n",
       " 'Handler': 'forecast.lambda_handler',\n",
       " 'CodeSize': 374,\n",
       " 'Description': '',\n",
       " 'Timeout': 900,\n",
       " 'MemorySize': 3008,\n",
       " 'LastModified': '2020-08-01T04:58:25.958+0000',\n",
       " 'CodeSha256': 'aozu0Z3fO0iTdTir/My4WCE9/wQ3/Tg58r7FTq5wytc=',\n",
       " 'Version': '$LATEST',\n",
       " 'TracingConfig': {'Mode': 'PassThrough'},\n",
       " 'RevisionId': '1d2e5f1c-2106-432a-8648-4c01047d1c28',\n",
       " 'State': 'Active',\n",
       " 'LastUpdateStatus': 'Successful'}"
      ]
     },
     "execution_count": 9,
     "metadata": {},
     "output_type": "execute_result"
    }
   ],
   "source": [
    "!rm -f lambdas/createforecast/forecast.zip\n",
    "!cd lambdas/createforecast; zip -r forecast .\n",
    "\n",
    "zip_file = open(\"lambdas/createforecast/forecast.zip\", \"rb\").read()\n",
    "\n",
    "lambda_.create_function(\n",
    "    FunctionName=\"forecast\",\n",
    "    Runtime=\"python3.7\",\n",
    "    Role=role_sm,\n",
    "    Handler=\"forecast.lambda_handler\",\n",
    "    Code={\"ZipFile\": zip_file},\n",
    "    Timeout=60*15,\n",
    "    MemorySize=3008\n",
    ")"
   ]
  },
  {
   "cell_type": "code",
   "execution_count": 10,
   "metadata": {},
   "outputs": [
    {
     "name": "stdout",
     "output_type": "stream",
     "text": [
      "  adding: getstatusforecast.py (deflated 47%)\n"
     ]
    },
    {
     "data": {
      "text/plain": [
       "{'ResponseMetadata': {'RequestId': '246416ac-47d5-4ff2-aeff-1b004df9bc2b',\n",
       "  'HTTPStatusCode': 201,\n",
       "  'HTTPHeaders': {'date': 'Sat, 01 Aug 2020 04:58:27 GMT',\n",
       "   'content-type': 'application/json',\n",
       "   'content-length': '905',\n",
       "   'connection': 'keep-alive',\n",
       "   'x-amzn-requestid': '246416ac-47d5-4ff2-aeff-1b004df9bc2b'},\n",
       "  'RetryAttempts': 0},\n",
       " 'FunctionName': 'getstatusforecast',\n",
       " 'FunctionArn': 'arn:aws:lambda:us-east-1:805433377179:function:getstatusforecast',\n",
       " 'Runtime': 'python3.7',\n",
       " 'Role': 'arn:aws:iam::805433377179:role/service-role/AmazonSageMaker-ExecutionRole-20200716T084970',\n",
       " 'Handler': 'getstatusforecast.lambda_handler',\n",
       " 'CodeSize': 374,\n",
       " 'Description': '',\n",
       " 'Timeout': 900,\n",
       " 'MemorySize': 3008,\n",
       " 'LastModified': '2020-08-01T04:58:26.956+0000',\n",
       " 'CodeSha256': 'm93syuTvFZ9cc4CyWa7RDnw5uCl3z6UxqnxpGa4AVp8=',\n",
       " 'Version': '$LATEST',\n",
       " 'TracingConfig': {'Mode': 'PassThrough'},\n",
       " 'RevisionId': '8a3845b2-4ca1-4ec2-8459-c5af0d1ae8f8',\n",
       " 'State': 'Active',\n",
       " 'LastUpdateStatus': 'Successful'}"
      ]
     },
     "execution_count": 10,
     "metadata": {},
     "output_type": "execute_result"
    }
   ],
   "source": [
    "!rm -f lambdas/GetStatusForecast/getstatusforecast.zip\n",
    "!cd lambdas/GetStatusForecast; zip -r getstatusforecast .\n",
    "\n",
    "zip_file = open(\"lambdas/GetStatusForecast/getstatusforecast.zip\", \"rb\").read()\n",
    "\n",
    "lambda_.create_function(\n",
    "    FunctionName=\"getstatusforecast\",\n",
    "    Runtime=\"python3.7\",\n",
    "    Role=role_sm,\n",
    "    Handler=\"getstatusforecast.lambda_handler\",\n",
    "    Code={\"ZipFile\": zip_file},\n",
    "    Timeout=60*15,\n",
    "    MemorySize=3008\n",
    ")"
   ]
  },
  {
   "cell_type": "code",
   "execution_count": 11,
   "metadata": {},
   "outputs": [
    {
     "name": "stdout",
     "output_type": "stream",
     "text": [
      "  adding: forecastexportjob.py (deflated 53%)\n"
     ]
    },
    {
     "data": {
      "text/plain": [
       "{'ResponseMetadata': {'RequestId': '7c5bd9c9-9c71-483f-8017-26d8e9ea3b00',\n",
       "  'HTTPStatusCode': 201,\n",
       "  'HTTPHeaders': {'date': 'Sat, 01 Aug 2020 04:58:30 GMT',\n",
       "   'content-type': 'application/json',\n",
       "   'content-length': '905',\n",
       "   'connection': 'keep-alive',\n",
       "   'x-amzn-requestid': '7c5bd9c9-9c71-483f-8017-26d8e9ea3b00'},\n",
       "  'RetryAttempts': 0},\n",
       " 'FunctionName': 'forecastexportjob',\n",
       " 'FunctionArn': 'arn:aws:lambda:us-east-1:805433377179:function:forecastexportjob',\n",
       " 'Runtime': 'python3.7',\n",
       " 'Role': 'arn:aws:iam::805433377179:role/service-role/AmazonSageMaker-ExecutionRole-20200716T084970',\n",
       " 'Handler': 'forecastexportjob.lambda_handler',\n",
       " 'CodeSize': 508,\n",
       " 'Description': '',\n",
       " 'Timeout': 900,\n",
       " 'MemorySize': 3008,\n",
       " 'LastModified': '2020-08-01T04:58:30.275+0000',\n",
       " 'CodeSha256': '30oXiVATLm2ex6B2FQiMagL8mYdEUPh2cr7rTDJnFSQ=',\n",
       " 'Version': '$LATEST',\n",
       " 'TracingConfig': {'Mode': 'PassThrough'},\n",
       " 'RevisionId': 'bea316ae-5d16-4644-afd4-7f546dc77fed',\n",
       " 'State': 'Active',\n",
       " 'LastUpdateStatus': 'Successful'}"
      ]
     },
     "execution_count": 11,
     "metadata": {},
     "output_type": "execute_result"
    }
   ],
   "source": [
    "!rm -f lambdas/createforecastexportjob/forecastexportjob.zip\n",
    "!cd lambdas/createforecastexportjob; zip -r forecastexportjob .\n",
    "\n",
    "zip_file = open(\"lambdas/createforecastexportjob/forecastexportjob.zip\", \"rb\").read()\n",
    "\n",
    "lambda_.create_function(\n",
    "    FunctionName=\"forecastexportjob\",\n",
    "    Runtime=\"python3.7\",\n",
    "    Role=role_sm,\n",
    "    Handler=\"forecastexportjob.lambda_handler\",\n",
    "    Code={\"ZipFile\": zip_file},\n",
    "    Timeout=60*15,\n",
    "    MemorySize=3008\n",
    ")"
   ]
  },
  {
   "cell_type": "code",
   "execution_count": 12,
   "metadata": {},
   "outputs": [
    {
     "name": "stdout",
     "output_type": "stream",
     "text": [
      "  adding: getstatusforecastexportjob.py (deflated 47%)\n"
     ]
    },
    {
     "data": {
      "text/plain": [
       "{'ResponseMetadata': {'RequestId': '8f3d50b5-3251-46c8-908b-50e14d9769a5',\n",
       "  'HTTPStatusCode': 201,\n",
       "  'HTTPHeaders': {'date': 'Sat, 01 Aug 2020 04:58:31 GMT',\n",
       "   'content-type': 'application/json',\n",
       "   'content-length': '932',\n",
       "   'connection': 'keep-alive',\n",
       "   'x-amzn-requestid': '8f3d50b5-3251-46c8-908b-50e14d9769a5'},\n",
       "  'RetryAttempts': 0},\n",
       " 'FunctionName': 'getstatusforecastexportjob',\n",
       " 'FunctionArn': 'arn:aws:lambda:us-east-1:805433377179:function:getstatusforecastexportjob',\n",
       " 'Runtime': 'python3.7',\n",
       " 'Role': 'arn:aws:iam::805433377179:role/service-role/AmazonSageMaker-ExecutionRole-20200716T084970',\n",
       " 'Handler': 'getstatusforecastexportjob.lambda_handler',\n",
       " 'CodeSize': 406,\n",
       " 'Description': '',\n",
       " 'Timeout': 900,\n",
       " 'MemorySize': 3008,\n",
       " 'LastModified': '2020-08-01T04:58:31.369+0000',\n",
       " 'CodeSha256': '7gfhIm0E6+FmQlVZCsXHR08X42ddNQ7ioaYPIRIG2OU=',\n",
       " 'Version': '$LATEST',\n",
       " 'TracingConfig': {'Mode': 'PassThrough'},\n",
       " 'RevisionId': 'bda98b75-5294-48fc-88e9-083e659a9f22',\n",
       " 'State': 'Active',\n",
       " 'LastUpdateStatus': 'Successful'}"
      ]
     },
     "execution_count": 12,
     "metadata": {},
     "output_type": "execute_result"
    }
   ],
   "source": [
    "!rm -f lambdas/GetStatusForecastExportJob/getstatusforecastexportjob.zip\n",
    "!cd lambdas/GetStatusForecastExportJob; zip -r getstatusforecastexportjob .\n",
    "\n",
    "zip_file = open(\"lambdas/GetStatusForecastExportJob/getstatusforecastexportjob.zip\", \"rb\").read()\n",
    "\n",
    "lambda_.create_function(\n",
    "    FunctionName=\"getstatusforecastexportjob\",\n",
    "    Runtime=\"python3.7\",\n",
    "    Role=role_sm,\n",
    "    Handler=\"getstatusforecastexportjob.lambda_handler\",\n",
    "    Code={\"ZipFile\": zip_file},\n",
    "    Timeout=60*15,\n",
    "    MemorySize=3008\n",
    ")"
   ]
  },
  {
   "cell_type": "code",
   "execution_count": 13,
   "metadata": {},
   "outputs": [
    {
     "name": "stdout",
     "output_type": "stream",
     "text": [
      "  adding: notifyuser.py (deflated 12%)\n"
     ]
    },
    {
     "data": {
      "text/plain": [
       "{'ResponseMetadata': {'RequestId': 'd51dc13e-2839-470b-b479-115769c18c38',\n",
       "  'HTTPStatusCode': 201,\n",
       "  'HTTPHeaders': {'date': 'Sat, 01 Aug 2020 04:58:32 GMT',\n",
       "   'content-type': 'application/json',\n",
       "   'content-length': '884',\n",
       "   'connection': 'keep-alive',\n",
       "   'x-amzn-requestid': 'd51dc13e-2839-470b-b479-115769c18c38'},\n",
       "  'RetryAttempts': 0},\n",
       " 'FunctionName': 'notifyuser',\n",
       " 'FunctionArn': 'arn:aws:lambda:us-east-1:805433377179:function:notifyuser',\n",
       " 'Runtime': 'python3.7',\n",
       " 'Role': 'arn:aws:iam::805433377179:role/service-role/AmazonSageMaker-ExecutionRole-20200716T084970',\n",
       " 'Handler': 'notifyuser.lambda_handler',\n",
       " 'CodeSize': 263,\n",
       " 'Description': '',\n",
       " 'Timeout': 900,\n",
       " 'MemorySize': 3008,\n",
       " 'LastModified': '2020-08-01T04:58:32.342+0000',\n",
       " 'CodeSha256': 'KIb96AGobdF9EmRtk+NH6jWCOH7e/DZSChpqr2FgFrU=',\n",
       " 'Version': '$LATEST',\n",
       " 'TracingConfig': {'Mode': 'PassThrough'},\n",
       " 'RevisionId': 'c089fd53-b937-40b7-9ab7-ba71a8ac2582',\n",
       " 'State': 'Active',\n",
       " 'LastUpdateStatus': 'Successful'}"
      ]
     },
     "execution_count": 13,
     "metadata": {},
     "output_type": "execute_result"
    }
   ],
   "source": [
    "!rm -f lambdas/NotifyUser/notifyuser.zip\n",
    "!cd lambdas/NotifyUser; zip -r notifyuser .\n",
    "\n",
    "zip_file = open(\"lambdas/NotifyUser/notifyuser.zip\", \"rb\").read()\n",
    "\n",
    "lambda_.create_function(\n",
    "    FunctionName=\"notifyuser\",\n",
    "    Runtime=\"python3.7\",\n",
    "    Role=role_sm,\n",
    "    Handler=\"notifyuser.lambda_handler\",\n",
    "    Code={\"ZipFile\": zip_file},\n",
    "    Timeout=60*15,\n",
    "    MemorySize=3008\n",
    ")"
   ]
  },
  {
   "cell_type": "markdown",
   "metadata": {},
   "source": [
    "# 2. Step Functins: Create state machine\n",
    "The definition of the state machine is created, and the creation of the state machine is performed based on the definition."
   ]
  },
  {
   "cell_type": "code",
   "execution_count": 14,
   "metadata": {},
   "outputs": [],
   "source": [
    "import sagemaker"
   ]
  },
  {
   "cell_type": "code",
   "execution_count": 15,
   "metadata": {},
   "outputs": [],
   "source": [
    "sagemaker_session = sagemaker.Session()"
   ]
  },
  {
   "cell_type": "code",
   "execution_count": 16,
   "metadata": {},
   "outputs": [
    {
     "data": {
      "text/plain": [
       "'us-east-1'"
      ]
     },
     "execution_count": 16,
     "metadata": {},
     "output_type": "execute_result"
    }
   ],
   "source": [
    "sagemaker_session.boto_region_name"
   ]
  },
  {
   "cell_type": "code",
   "execution_count": 17,
   "metadata": {},
   "outputs": [],
   "source": [
    "sts = boto3.client('sts')\n",
    "id_info = sts.get_caller_identity()"
   ]
  },
  {
   "cell_type": "code",
   "execution_count": 18,
   "metadata": {},
   "outputs": [
    {
     "data": {
      "text/plain": [
       "'805433377179'"
      ]
     },
     "execution_count": 18,
     "metadata": {},
     "output_type": "execute_result"
    }
   ],
   "source": [
    "id_info['Account']"
   ]
  },
  {
   "cell_type": "code",
   "execution_count": 19,
   "metadata": {},
   "outputs": [],
   "source": [
    "import json"
   ]
  },
  {
   "cell_type": "code",
   "execution_count": 20,
   "metadata": {},
   "outputs": [],
   "source": [
    "def_sfn={\n",
    "  \"Comment\": \"Amazon Forecast example of the Amazon States Language using an AWS Lambda Function\",\n",
    "  \"StartAt\": \"datasetimport\",\n",
    "  \"States\": {\n",
    "    \"datasetimport\": {\n",
    "      \"Type\": \"Task\",\n",
    "      \"InputPath\":\"$\",\n",
    "      \"Resource\": \"arn:aws:lambda:\" + sagemaker_session.boto_region_name + \":\" + id_info['Account'] + \":function:datasetimport\",\n",
    "      \"ResultPath\":\"$\",\n",
    "      \"Next\": \"GetStatusImport\"\n",
    "    },\n",
    "    \"GetStatusImport\": {\n",
    "      \"Type\": \"Task\",\n",
    "      \"InputPath\":\"$\",\n",
    "      \"Resource\": \"arn:aws:lambda:\" + sagemaker_session.boto_region_name + \":\" + id_info['Account'] + \":function:getstatusimport\",\n",
    "      \"ResultPath\":\"$\",\n",
    "      \"Next\": \"CheckStatusImport\"\n",
    "    },\n",
    "    \"CheckStatusImport\": {\n",
    "        \"Type\": \"Choice\",\n",
    "        \"InputPath\":\"$\",\n",
    "        \"Choices\": [\n",
    "        {\n",
    "        \"Variable\": \"$.is_active_import\",\n",
    "        \"BooleanEquals\": True,\n",
    "        \"Next\": \"predictor\"\n",
    "        }\n",
    "        ],\n",
    "        \"Default\": \"SleepCheckStatusImport\"\n",
    "        },\n",
    "    \"SleepCheckStatusImport\": {\n",
    "        \"Type\": \"Wait\",\n",
    "        \"Seconds\": 300,\n",
    "        \"Next\": \"GetStatusImport\"\n",
    "    },\n",
    "    \"predictor\": {\n",
    "      \"Type\": \"Task\",\n",
    "      \"InputPath\":\"$\",\n",
    "      \"Resource\": \"arn:aws:lambda:\" + sagemaker_session.boto_region_name + \":\" + id_info['Account'] + \":function:predictor\",\n",
    "      \"ResultPath\":\"$\",\n",
    "      \"Next\": \"GetStatusPredictor\"\n",
    "    },\n",
    "    \"GetStatusPredictor\": {\n",
    "      \"Type\": \"Task\",\n",
    "      \"InputPath\":\"$\",\n",
    "      \"Resource\": \"arn:aws:lambda:\" + sagemaker_session.boto_region_name + \":\" + id_info['Account'] + \":function:getstatuspredictor\",\n",
    "      \"ResultPath\":\"$\",\n",
    "      \"Next\": \"CheckStatusPredictor\"\n",
    "    },\n",
    "    \"CheckStatusPredictor\": {\n",
    "        \"Type\": \"Choice\",\n",
    "        \"InputPath\":\"$\",\n",
    "        \"Choices\": [\n",
    "        {\n",
    "        \"Variable\": \"$.is_active_predictor\",\n",
    "        \"BooleanEquals\": True,\n",
    "        \"Next\": \"forecast\"\n",
    "        }\n",
    "        ],\n",
    "        \"Default\": \"SleepCheckStatusPredictor\"\n",
    "        },\n",
    "    \"SleepCheckStatusPredictor\": {\n",
    "        \"Type\": \"Wait\",\n",
    "        \"Seconds\": 300,\n",
    "        \"Next\": \"GetStatusPredictor\"\n",
    "    },\n",
    "    \"forecast\": {\n",
    "      \"Type\": \"Task\",\n",
    "      \"InputPath\":\"$\",\n",
    "      \"Resource\": \"arn:aws:lambda:\" + sagemaker_session.boto_region_name + \":\" + id_info['Account'] + \":function:forecast\",\n",
    "      \"ResultPath\":\"$\",\n",
    "      \"Next\": \"GetStatusForecast\"\n",
    "    },\n",
    "    \"GetStatusForecast\": {\n",
    "      \"Type\": \"Task\",\n",
    "      \"InputPath\":\"$\",\n",
    "      \"Resource\": \"arn:aws:lambda:\" + sagemaker_session.boto_region_name + \":\" + id_info['Account'] + \":function:getstatusforecast\",\n",
    "      \"ResultPath\":\"$\",\n",
    "      \"Next\": \"CheckStatusForecast\"\n",
    "    },  \n",
    "    \"CheckStatusForecast\": {\n",
    "        \"Type\": \"Choice\",\n",
    "        \"InputPath\":\"$\",\n",
    "        \"Choices\": [\n",
    "        {\n",
    "        \"Variable\": \"$.is_active_forecast\",\n",
    "        \"BooleanEquals\": True,\n",
    "        \"Next\": \"forecastexportjob\"\n",
    "        }\n",
    "        ],\n",
    "        \"Default\": \"SleepCheckStatusForecast\"\n",
    "        },\n",
    "    \"SleepCheckStatusForecast\": {\n",
    "        \"Type\": \"Wait\",\n",
    "        \"Seconds\": 300,\n",
    "        \"Next\": \"GetStatusForecast\"\n",
    "    },\n",
    "    \"forecastexportjob\": {\n",
    "      \"Type\": \"Task\",\n",
    "      \"InputPath\":\"$\",\n",
    "      \"Resource\": \"arn:aws:lambda:\" + sagemaker_session.boto_region_name + \":\" + id_info['Account'] + \":function:forecastexportjob\",\n",
    "      \"ResultPath\":\"$\",\n",
    "      \"Next\": \"GetStatusForecastExportjob\"\n",
    "    },\n",
    "    \"GetStatusForecastExportjob\": {\n",
    "      \"Type\": \"Task\",\n",
    "      \"InputPath\":\"$\",\n",
    "      \"Resource\": \"arn:aws:lambda:\" + sagemaker_session.boto_region_name + \":\" + id_info['Account'] + \":function:getstatusforecastexportjob\",\n",
    "      \"ResultPath\":\"$\",\n",
    "      \"Next\": \"CheckStatusExport\"\n",
    "    },  \n",
    "    \"CheckStatusExport\": {\n",
    "        \"Type\": \"Choice\",\n",
    "        \"InputPath\":\"$\",\n",
    "        \"Choices\": [\n",
    "        {\n",
    "        \"Variable\": \"$.is_active_export\",\n",
    "        \"BooleanEquals\": True,\n",
    "        \"Next\": \"NotifyUser\"\n",
    "        }\n",
    "        ],\n",
    "        \"Default\": \"SleepCheckStatusExport\"\n",
    "        },\n",
    "    \"SleepCheckStatusExport\": {\n",
    "        \"Type\": \"Wait\",\n",
    "        \"Seconds\": 300,\n",
    "        \"Next\": \"GetStatusForecastExportjob\"\n",
    "    },\n",
    "    \"NotifyUser\": {\n",
    "      \"Type\": \"Task\",\n",
    "      \"InputPath\":\"$\",\n",
    "      \"Resource\": \"arn:aws:lambda:\" + sagemaker_session.boto_region_name + \":\" + id_info['Account'] + \":function:notifyuser\",\n",
    "      \"ResultPath\":\"$\",\n",
    "      \"End\": True\n",
    "    }\n",
    "  }\n",
    "}\n"
   ]
  },
  {
   "cell_type": "code",
   "execution_count": 21,
   "metadata": {},
   "outputs": [],
   "source": [
    "with open('./definition.json', 'w') as f:\n",
    "    json.dump(def_sfn, f, indent=2, ensure_ascii=False)"
   ]
  },
  {
   "cell_type": "code",
   "execution_count": 22,
   "metadata": {},
   "outputs": [],
   "source": [
    "import boto3\n",
    "sfn = boto3.client('stepfunctions')"
   ]
  },
  {
   "cell_type": "code",
   "execution_count": 23,
   "metadata": {},
   "outputs": [
    {
     "data": {
      "text/plain": [
       "{'stateMachineArn': 'arn:aws:states:us-east-1:805433377179:stateMachine:demo-forecast',\n",
       " 'creationDate': datetime.datetime(2020, 8, 1, 4, 58, 40, 544000, tzinfo=tzlocal()),\n",
       " 'ResponseMetadata': {'RequestId': '5ed46cbd-0054-4f74-af7d-83a6898c3f2e',\n",
       "  'HTTPStatusCode': 200,\n",
       "  'HTTPHeaders': {'x-amzn-requestid': '5ed46cbd-0054-4f74-af7d-83a6898c3f2e',\n",
       "   'content-type': 'application/x-amz-json-1.0',\n",
       "   'content-length': '118'},\n",
       "  'RetryAttempts': 0}}"
      ]
     },
     "execution_count": 23,
     "metadata": {},
     "output_type": "execute_result"
    }
   ],
   "source": [
    "sfn.create_state_machine(\n",
    "        name=\"demo-forecast\",\n",
    "        definition=open(\"definition.json\").read(),\n",
    "        roleArn=role_sm\n",
    ")"
   ]
  },
  {
   "cell_type": "markdown",
   "metadata": {},
   "source": [
    "# 3.AWS CloudTrail :create trail  \n",
    "https://docs.aws.amazon.com/step-functions/latest/dg/tutorial-cloudwatch-events-s3.html\n",
    "\n",
    "Configure CloudTrail and CloudWatch Events to run Step Functions by triggering S3 object placement as described in this guide.\n",
    "\n",
    "https://boto3.amazonaws.com/v1/documentation/api/1.9.42/reference/services/cloudtrail.html#CloudTrail.Client.create_trail"
   ]
  },
  {
   "cell_type": "code",
   "execution_count": 24,
   "metadata": {},
   "outputs": [
    {
     "name": "stdout",
     "output_type": "stream",
     "text": [
      "boto3==1.14.16\n"
     ]
    }
   ],
   "source": [
    "! pip freeze | grep boto3"
   ]
  },
  {
   "cell_type": "code",
   "execution_count": 25,
   "metadata": {},
   "outputs": [],
   "source": [
    "cloudtrail = boto3.client('cloudtrail')"
   ]
  },
  {
   "cell_type": "code",
   "execution_count": 26,
   "metadata": {},
   "outputs": [
    {
     "name": "stdout",
     "output_type": "stream",
     "text": [
      "805433377179\n"
     ]
    }
   ],
   "source": [
    "sts = boto3.client('sts')\n",
    "id_info = sts.get_caller_identity()\n",
    "print(id_info['Account'])"
   ]
  },
  {
   "cell_type": "code",
   "execution_count": 27,
   "metadata": {},
   "outputs": [],
   "source": [
    "bucket_name = 'demo-forecast-' + id_info['Account']"
   ]
  },
  {
   "cell_type": "code",
   "execution_count": 28,
   "metadata": {},
   "outputs": [
    {
     "data": {
      "text/plain": [
       "'demo-forecast-805433377179'"
      ]
     },
     "execution_count": 28,
     "metadata": {},
     "output_type": "execute_result"
    }
   ],
   "source": [
    "bucket_name"
   ]
  },
  {
   "cell_type": "code",
   "execution_count": 29,
   "metadata": {},
   "outputs": [],
   "source": [
    "output_trail_bucket = bucket_name + '-trail'"
   ]
  },
  {
   "cell_type": "code",
   "execution_count": 30,
   "metadata": {},
   "outputs": [
    {
     "data": {
      "text/plain": [
       "{'ResponseMetadata': {'RequestId': '2D5570296F99AFFF',\n",
       "  'HostId': 'kaUj1h9DjNswQ0fDhW9nABvashdgLplGhcjvxWcM6pN9VrCNw2FDdxTPZ40+vawzTYurnlwgcvo=',\n",
       "  'HTTPStatusCode': 200,\n",
       "  'HTTPHeaders': {'x-amz-id-2': 'kaUj1h9DjNswQ0fDhW9nABvashdgLplGhcjvxWcM6pN9VrCNw2FDdxTPZ40+vawzTYurnlwgcvo=',\n",
       "   'x-amz-request-id': '2D5570296F99AFFF',\n",
       "   'date': 'Sat, 01 Aug 2020 04:58:47 GMT',\n",
       "   'location': '/demo-forecast-805433377179-trail',\n",
       "   'content-length': '0',\n",
       "   'server': 'AmazonS3'},\n",
       "  'RetryAttempts': 0},\n",
       " 'Location': '/demo-forecast-805433377179-trail'}"
      ]
     },
     "execution_count": 30,
     "metadata": {},
     "output_type": "execute_result"
    }
   ],
   "source": [
    "s3 = boto3.client('s3')\n",
    "s3.create_bucket(Bucket=output_trail_bucket)"
   ]
  },
  {
   "cell_type": "markdown",
   "metadata": {},
   "source": [
    "## set bucket policy\n",
    "setting policy with boto3  \n",
    "https://boto3.amazonaws.com/v1/documentation/api/latest/guide/s3-example-bucket-policies.html"
   ]
  },
  {
   "cell_type": "code",
   "execution_count": 31,
   "metadata": {},
   "outputs": [],
   "source": [
    "import json"
   ]
  },
  {
   "cell_type": "code",
   "execution_count": 32,
   "metadata": {},
   "outputs": [],
   "source": [
    "bucket_policy = {\n",
    "    \"Version\": \"2012-10-17\",\n",
    "    \"Statement\": [\n",
    "        {\n",
    "            \"Sid\": \"AWSCloudTrailAclCheck20150319\",\n",
    "            \"Effect\": \"Allow\",\n",
    "            \"Principal\": {\n",
    "                \"Service\": \"cloudtrail.amazonaws.com\"\n",
    "            },\n",
    "            \"Action\": \"s3:GetBucketAcl\",\n",
    "            \"Resource\": \"arn:aws:s3:::\" + bucket_name + \"-trail\"\n",
    "        },\n",
    "        {\n",
    "            \"Sid\": \"AWSCloudTrailWrite20150319\",\n",
    "            \"Effect\": \"Allow\",\n",
    "            \"Principal\": {\n",
    "                \"Service\": \"cloudtrail.amazonaws.com\"\n",
    "            },\n",
    "            \"Action\": \"s3:PutObject\",\n",
    "            \"Resource\": \"arn:aws:s3:::\" + bucket_name + \"-trail/AWSLogs/\" + id_info['Account'] + \"/*\",\n",
    "            \"Condition\": {\n",
    "                \"StringEquals\": {\n",
    "                    \"s3:x-amz-acl\": \"bucket-owner-full-control\"\n",
    "                }\n",
    "            }\n",
    "        }\n",
    "    ]\n",
    "}\n",
    "\n",
    "# Convert the policy from JSON dict to string\n",
    "bucket_policy = json.dumps(bucket_policy)"
   ]
  },
  {
   "cell_type": "code",
   "execution_count": 33,
   "metadata": {},
   "outputs": [
    {
     "data": {
      "text/plain": [
       "{'ResponseMetadata': {'RequestId': '21FC2A7FFFF16A31',\n",
       "  'HostId': '4sDzvdhiylXFme5a3AD/j/GRNM/Dr2ZfWlTlPqpOU9t48JSGuNwxO4LwapyKivrA9SNUwekQuJc=',\n",
       "  'HTTPStatusCode': 204,\n",
       "  'HTTPHeaders': {'x-amz-id-2': '4sDzvdhiylXFme5a3AD/j/GRNM/Dr2ZfWlTlPqpOU9t48JSGuNwxO4LwapyKivrA9SNUwekQuJc=',\n",
       "   'x-amz-request-id': '21FC2A7FFFF16A31',\n",
       "   'date': 'Sat, 01 Aug 2020 04:58:51 GMT',\n",
       "   'server': 'AmazonS3'},\n",
       "  'RetryAttempts': 0}}"
      ]
     },
     "execution_count": 33,
     "metadata": {},
     "output_type": "execute_result"
    }
   ],
   "source": [
    "# Set the new policy\n",
    "s3 = boto3.client('s3')\n",
    "s3.put_bucket_policy(Bucket=output_trail_bucket, Policy=bucket_policy)"
   ]
  },
  {
   "cell_type": "code",
   "execution_count": 34,
   "metadata": {},
   "outputs": [
    {
     "data": {
      "text/plain": [
       "{'Name': 'forecast-trail',\n",
       " 'S3BucketName': 'demo-forecast-805433377179-trail',\n",
       " 'IncludeGlobalServiceEvents': True,\n",
       " 'IsMultiRegionTrail': False,\n",
       " 'TrailARN': 'arn:aws:cloudtrail:us-east-1:805433377179:trail/forecast-trail',\n",
       " 'LogFileValidationEnabled': True,\n",
       " 'IsOrganizationTrail': False,\n",
       " 'ResponseMetadata': {'RequestId': '544c195e-3128-4793-8bdd-141631859504',\n",
       "  'HTTPStatusCode': 200,\n",
       "  'HTTPHeaders': {'x-amzn-requestid': '544c195e-3128-4793-8bdd-141631859504',\n",
       "   'content-type': 'application/x-amz-json-1.1',\n",
       "   'content-length': '272',\n",
       "   'date': 'Sat, 01 Aug 2020 04:58:51 GMT'},\n",
       "  'RetryAttempts': 0}}"
      ]
     },
     "execution_count": 34,
     "metadata": {},
     "output_type": "execute_result"
    }
   ],
   "source": [
    "cloudtrail.create_trail(\n",
    "    Name='forecast-trail',\n",
    "    S3BucketName=output_trail_bucket,\n",
    "    EnableLogFileValidation=True\n",
    ")"
   ]
  },
  {
   "cell_type": "code",
   "execution_count": 35,
   "metadata": {},
   "outputs": [
    {
     "data": {
      "text/plain": [
       "{'TrailARN': 'arn:aws:cloudtrail:us-east-1:805433377179:trail/forecast-trail',\n",
       " 'EventSelectors': [{'ReadWriteType': 'All',\n",
       "   'IncludeManagementEvents': True,\n",
       "   'DataResources': [{'Type': 'AWS::S3::Object',\n",
       "     'Values': ['arn:aws:s3:::demo-forecast-805433377179/']}],\n",
       "   'ExcludeManagementEventSources': []}],\n",
       " 'ResponseMetadata': {'RequestId': '97dc03ae-d64b-49de-a8da-4b943fdff200',\n",
       "  'HTTPStatusCode': 200,\n",
       "  'HTTPHeaders': {'x-amzn-requestid': '97dc03ae-d64b-49de-a8da-4b943fdff200',\n",
       "   'content-type': 'application/x-amz-json-1.1',\n",
       "   'content-length': '285',\n",
       "   'date': 'Sat, 01 Aug 2020 04:58:51 GMT'},\n",
       "  'RetryAttempts': 0}}"
      ]
     },
     "execution_count": 35,
     "metadata": {},
     "output_type": "execute_result"
    }
   ],
   "source": [
    "cloudtrail.put_event_selectors(\n",
    "    TrailName='forecast-trail',\n",
    "    EventSelectors=[\n",
    "        {\n",
    "            'ReadWriteType': 'All',\n",
    "            'IncludeManagementEvents': True,\n",
    "            'DataResources': [\n",
    "                {\n",
    "                    'Type': 'AWS::S3::Object',\n",
    "                    'Values': [\n",
    "                        f'arn:aws:s3:::{bucket_name}/',\n",
    "                    ]\n",
    "                },\n",
    "            ]\n",
    "        },\n",
    "    ]\n",
    ")"
   ]
  },
  {
   "cell_type": "markdown",
   "metadata": {},
   "source": [
    "### enable logging\n",
    "https://boto3.amazonaws.com/v1/documentation/api/latest/reference/services/cloudtrail.html#CloudTrail.Client.start_logging"
   ]
  },
  {
   "cell_type": "code",
   "execution_count": 36,
   "metadata": {},
   "outputs": [
    {
     "data": {
      "text/plain": [
       "{'ResponseMetadata': {'RequestId': 'b5759dbe-7ce3-4803-8aef-75655c4ec646',\n",
       "  'HTTPStatusCode': 200,\n",
       "  'HTTPHeaders': {'x-amzn-requestid': 'b5759dbe-7ce3-4803-8aef-75655c4ec646',\n",
       "   'content-type': 'application/x-amz-json-1.1',\n",
       "   'content-length': '2',\n",
       "   'date': 'Sat, 01 Aug 2020 04:58:53 GMT'},\n",
       "  'RetryAttempts': 0}}"
      ]
     },
     "execution_count": 36,
     "metadata": {},
     "output_type": "execute_result"
    }
   ],
   "source": [
    "cloudtrail.start_logging(Name='forecast-trail')"
   ]
  },
  {
   "cell_type": "markdown",
   "metadata": {},
   "source": [
    "# 4.CloudWatch Event: build a rule\n",
    "https://boto3.amazonaws.com/v1/documentation/api/1.9.42/reference/services/events.html\n",
    "\n",
    "\n",
    "put_rule(): create rule  \n",
    "https://boto3.amazonaws.com/v1/documentation/api/1.9.42/reference/services/events.html#CloudWatchEvents.Client.put_rule\n"
   ]
  },
  {
   "cell_type": "code",
   "execution_count": 37,
   "metadata": {},
   "outputs": [
    {
     "data": {
      "text/plain": [
       "'demo-forecast-805433377179'"
      ]
     },
     "execution_count": 37,
     "metadata": {},
     "output_type": "execute_result"
    }
   ],
   "source": [
    "bucket_name"
   ]
  },
  {
   "cell_type": "code",
   "execution_count": 38,
   "metadata": {},
   "outputs": [],
   "source": [
    "cwe = boto3.client('events')"
   ]
  },
  {
   "cell_type": "code",
   "execution_count": 39,
   "metadata": {},
   "outputs": [],
   "source": [
    "ep_str ='{\"source\":[\"aws.s3\"], \\\n",
    "        \"detail-type\":[\"AWS API Call via CloudTrail\"], \\\n",
    "        \"detail\":{\"eventSource\":[\"s3.amazonaws.com\"], \\\n",
    "        \"eventName\":[\"PutObject\", \"CompleteMultipartUpload\"], \\\n",
    "        \"requestParameters\":{\"bucketName\":[\"'+ bucket_name + '\"]}}}'"
   ]
  },
  {
   "cell_type": "code",
   "execution_count": 40,
   "metadata": {},
   "outputs": [
    {
     "data": {
      "text/plain": [
       "{'RuleArn': 'arn:aws:events:us-east-1:805433377179:rule/demo-forecast',\n",
       " 'ResponseMetadata': {'RequestId': '078b3d71-b2ef-4256-8a44-2ccbf1f4a16b',\n",
       "  'HTTPStatusCode': 200,\n",
       "  'HTTPHeaders': {'x-amzn-requestid': '078b3d71-b2ef-4256-8a44-2ccbf1f4a16b',\n",
       "   'content-type': 'application/x-amz-json-1.1',\n",
       "   'content-length': '70',\n",
       "   'date': 'Sat, 01 Aug 2020 04:58:56 GMT'},\n",
       "  'RetryAttempts': 0}}"
      ]
     },
     "execution_count": 40,
     "metadata": {},
     "output_type": "execute_result"
    }
   ],
   "source": [
    "cwe.put_rule(\n",
    "    Name='demo-forecast',\n",
    "    EventPattern=ep_str,\n",
    "    State='ENABLED'\n",
    ")"
   ]
  },
  {
   "cell_type": "code",
   "execution_count": 41,
   "metadata": {},
   "outputs": [
    {
     "data": {
      "text/plain": [
       "{'FailedEntryCount': 0,\n",
       " 'FailedEntries': [],\n",
       " 'ResponseMetadata': {'RequestId': '5b7e176e-049b-48ec-a3b9-a1ca5831cbcb',\n",
       "  'HTTPStatusCode': 200,\n",
       "  'HTTPHeaders': {'x-amzn-requestid': '5b7e176e-049b-48ec-a3b9-a1ca5831cbcb',\n",
       "   'content-type': 'application/x-amz-json-1.1',\n",
       "   'content-length': '41',\n",
       "   'date': 'Sat, 01 Aug 2020 04:58:56 GMT'},\n",
       "  'RetryAttempts': 0}}"
      ]
     },
     "execution_count": 41,
     "metadata": {},
     "output_type": "execute_result"
    }
   ],
   "source": [
    "cwe.put_targets(\n",
    "    Rule='demo-forecast',\n",
    "    Targets=[\n",
    "        {\n",
    "            'Id': 'forecast',\n",
    "            'Arn': \"arn:aws:states:\" + sagemaker_session.boto_region_name + \":\" + id_info['Account'] + \":stateMachine:demo-forecast\",\n",
    "            'RoleArn': role_sm\n",
    "        }\n",
    "    ]\n",
    ")"
   ]
  },
  {
   "cell_type": "markdown",
   "metadata": {},
   "source": [
    "# 5.Put additional file into S3\n",
    "When upload a file to S3, Step Functions runs.\n",
    "\n",
    "It may not work if you run it all at once. wait about 30 seconds. the S3 file can be uploaded repeatedly."
   ]
  },
  {
   "cell_type": "code",
   "execution_count": 46,
   "metadata": {},
   "outputs": [],
   "source": [
    "s3 = boto3.resource('s3')\n",
    "bucket = s3.Bucket(bucket_name)\n",
    "\n",
    "bucket.upload_file('./output/tr_target_add_20091201_20101209.csv', 'input/tr_target_add_20091201_20101209.csv')"
   ]
  },
  {
   "cell_type": "markdown",
   "metadata": {},
   "source": [
    "# 6.Next\n",
    "When Step Functions is completed, the prediction results are output to S3, import the data source in QuickSight using the same procedure as before and visualize it."
   ]
  }
 ],
 "metadata": {
  "kernelspec": {
   "display_name": "conda_python3",
   "language": "python",
   "name": "conda_python3"
  },
  "language_info": {
   "codemirror_mode": {
    "name": "ipython",
    "version": 3
   },
   "file_extension": ".py",
   "mimetype": "text/x-python",
   "name": "python",
   "nbconvert_exporter": "python",
   "pygments_lexer": "ipython3",
   "version": "3.6.10"
  }
 },
 "nbformat": 4,
 "nbformat_minor": 4
}
