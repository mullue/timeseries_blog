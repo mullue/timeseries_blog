{
 "cells": [
  {
   "cell_type": "markdown",
   "metadata": {},
   "source": [
    "# Creating a pipeline in which the Forecast training and inference is performed once you put the file in S3.\n",
    "\n",
    "https://docs.aws.amazon.com/en_us/step-functions/latest/dg/tutorial-cloudwatch-events-s3.html\n",
    "\n",
    "Prerequisite: creating a state machine  \n",
    "Step 1: Create a bucket on Amazon S3  \n",
    "Step 2: Create a trail with AWS CloudTrail  \n",
    "Step 3: Create a CloudWatch Event Rule  \n",
    "Step 4: Test your CloudWatch rules "
   ]
  },
  {
   "cell_type": "markdown",
   "metadata": {},
   "source": [
    "## Prerequisite: creating a state machine "
   ]
  },
  {
   "cell_type": "code",
   "execution_count": 7,
   "metadata": {},
   "outputs": [],
   "source": [
    "import boto3\n",
    "\n",
    "client = boto3.client('stepfunctions')"
   ]
  },
  {
   "cell_type": "code",
   "execution_count": 8,
   "metadata": {},
   "outputs": [],
   "source": [
    "role='arn:aws:iam::805433377179:role/service-role/StepFunctions-MyStateMachine-role-b95c2d8a'"
   ]
  },
  {
   "cell_type": "code",
   "execution_count": 9,
   "metadata": {},
   "outputs": [
    {
     "data": {
      "text/plain": [
       "{'stateMachineArn': 'arn:aws:states:us-east-2:805433377179:stateMachine:foo',\n",
       " 'creationDate': datetime.datetime(2020, 7, 1, 10, 53, 2, 979000, tzinfo=tzlocal()),\n",
       " 'ResponseMetadata': {'RequestId': 'f15fbaaa-93ea-4cc3-a05e-47ab2412976a',\n",
       "  'HTTPStatusCode': 200,\n",
       "  'HTTPHeaders': {'x-amzn-requestid': 'f15fbaaa-93ea-4cc3-a05e-47ab2412976a',\n",
       "   'content-type': 'application/x-amz-json-1.0',\n",
       "   'content-length': '108'},\n",
       "  'RetryAttempts': 0}}"
      ]
     },
     "execution_count": 9,
     "metadata": {},
     "output_type": "execute_result"
    }
   ],
   "source": [
    "client.create_state_machine(\n",
    "        name=\"foo\",\n",
    "        definition=open(\"definition.json\").read(),\n",
    "        roleArn=role\n",
    ")"
   ]
  },
  {
   "cell_type": "markdown",
   "metadata": {},
   "source": [
    "## (WIP)StepFunctions for Amazon Forecast pipeline\n",
    "\n",
    "- Data set import  \n",
    "- Training  \n",
    "- Forecasting  \n",
    "- Output prediction results to S3  "
   ]
  },
  {
   "cell_type": "markdown",
   "metadata": {},
   "source": [
    "# Step 1: Create a bucket on Amazon S3  "
   ]
  },
  {
   "cell_type": "code",
   "execution_count": 62,
   "metadata": {},
   "outputs": [
    {
     "name": "stdout",
     "output_type": "stream",
     "text": [
      "805433377179\n"
     ]
    }
   ],
   "source": [
    "sts = boto3.client('sts')\n",
    "id_info = sts.get_caller_identity()\n",
    "print(id_info['Account'])"
   ]
  },
  {
   "cell_type": "code",
   "execution_count": 63,
   "metadata": {},
   "outputs": [
    {
     "data": {
      "text/plain": [
       "{'UserId': 'AROA3XB4SAGNWQRFTLH7Z:SageMaker',\n",
       " 'Account': '805433377179',\n",
       " 'Arn': 'arn:aws:sts::805433377179:assumed-role/PersonalizePOCDemo-SageMakerIamRole-125YH74GVVADM/SageMaker',\n",
       " 'ResponseMetadata': {'RequestId': 'ce87d56a-84ac-4898-b0f8-8647873e558b',\n",
       "  'HTTPStatusCode': 200,\n",
       "  'HTTPHeaders': {'x-amzn-requestid': 'ce87d56a-84ac-4898-b0f8-8647873e558b',\n",
       "   'content-type': 'text/xml',\n",
       "   'content-length': '474',\n",
       "   'date': 'Wed, 01 Jul 2020 14:25:55 GMT'},\n",
       "  'RetryAttempts': 0}}"
      ]
     },
     "execution_count": 63,
     "metadata": {},
     "output_type": "execute_result"
    }
   ],
   "source": [
    "id_info"
   ]
  },
  {
   "cell_type": "code",
   "execution_count": 68,
   "metadata": {},
   "outputs": [],
   "source": [
    "bucket_name = 'timeseriesblog-' + id_info['Account']"
   ]
  },
  {
   "cell_type": "code",
   "execution_count": 69,
   "metadata": {},
   "outputs": [
    {
     "data": {
      "text/plain": [
       "'timeseriesblog-805433377179'"
      ]
     },
     "execution_count": 69,
     "metadata": {},
     "output_type": "execute_result"
    }
   ],
   "source": [
    "bucket_name"
   ]
  },
  {
   "cell_type": "code",
   "execution_count": 71,
   "metadata": {},
   "outputs": [
    {
     "data": {
      "text/plain": [
       "{'ResponseMetadata': {'RequestId': '80F39CA21949DE24',\n",
       "  'HostId': 'vC9l5LwpCyER7NkwErfFIsSmcZtk738xdjuE5+w+ByGKHCQcjVSnLwpJl7JT1GoT9UcwqzLM2x8=',\n",
       "  'HTTPStatusCode': 200,\n",
       "  'HTTPHeaders': {'x-amz-id-2': 'vC9l5LwpCyER7NkwErfFIsSmcZtk738xdjuE5+w+ByGKHCQcjVSnLwpJl7JT1GoT9UcwqzLM2x8=',\n",
       "   'x-amz-request-id': '80F39CA21949DE24',\n",
       "   'date': 'Wed, 01 Jul 2020 14:26:44 GMT',\n",
       "   'location': 'http://timeseriesblog-805433377179.s3.amazonaws.com/',\n",
       "   'content-length': '0',\n",
       "   'server': 'AmazonS3'},\n",
       "  'RetryAttempts': 0},\n",
       " 'Location': 'http://timeseriesblog-805433377179.s3.amazonaws.com/'}"
      ]
     },
     "execution_count": 71,
     "metadata": {},
     "output_type": "execute_result"
    }
   ],
   "source": [
    "s3 = boto3.client('s3')\n",
    "s3.create_bucket(Bucket=bucket_name,\n",
    "                CreateBucketConfiguration={'LocationConstraint': 'us-east-2'}\n",
    "                )"
   ]
  },
  {
   "cell_type": "markdown",
   "metadata": {},
   "source": [
    "# Step 2: Create a trail with AWS CloudTrail \n",
    "https://boto3.amazonaws.com/v1/documentation/api/1.9.42/reference/services/cloudtrail.html#CloudTrail.Client.create_trail"
   ]
  },
  {
   "cell_type": "code",
   "execution_count": 72,
   "metadata": {},
   "outputs": [
    {
     "name": "stdout",
     "output_type": "stream",
     "text": [
      "boto3==1.12.22\n"
     ]
    }
   ],
   "source": [
    "! pip freeze | grep boto3"
   ]
  },
  {
   "cell_type": "code",
   "execution_count": 180,
   "metadata": {},
   "outputs": [],
   "source": [
    "cloudtrail = boto3.client('cloudtrail')"
   ]
  },
  {
   "cell_type": "code",
   "execution_count": 184,
   "metadata": {},
   "outputs": [],
   "source": [
    "output_trail_bucket = bucket_name + '-trail'"
   ]
  },
  {
   "cell_type": "code",
   "execution_count": 193,
   "metadata": {},
   "outputs": [
    {
     "ename": "TrailAlreadyExistsException",
     "evalue": "An error occurred (TrailAlreadyExistsException) when calling the CreateTrail operation: Trail timeseries-trail already exists for customer: 805433377179",
     "output_type": "error",
     "traceback": [
      "\u001b[0;31m---------------------------------------------------------------------------\u001b[0m",
      "\u001b[0;31mTrailAlreadyExistsException\u001b[0m               Traceback (most recent call last)",
      "\u001b[0;32m<ipython-input-193-ab1534ca8e6d>\u001b[0m in \u001b[0;36m<module>\u001b[0;34m()\u001b[0m\n\u001b[1;32m      1\u001b[0m cloudtrail.create_trail(\n\u001b[1;32m      2\u001b[0m     \u001b[0mName\u001b[0m\u001b[0;34m=\u001b[0m\u001b[0;34m'timeseries-trail'\u001b[0m\u001b[0;34m,\u001b[0m\u001b[0;34m\u001b[0m\u001b[0m\n\u001b[0;32m----> 3\u001b[0;31m     \u001b[0mS3BucketName\u001b[0m\u001b[0;34m=\u001b[0m\u001b[0moutput_trail_bucket\u001b[0m\u001b[0;34m\u001b[0m\u001b[0m\n\u001b[0m\u001b[1;32m      4\u001b[0m )\n",
      "\u001b[0;32m~/anaconda3/envs/python3/lib/python3.6/site-packages/botocore/client.py\u001b[0m in \u001b[0;36m_api_call\u001b[0;34m(self, *args, **kwargs)\u001b[0m\n\u001b[1;32m    314\u001b[0m                     \"%s() only accepts keyword arguments.\" % py_operation_name)\n\u001b[1;32m    315\u001b[0m             \u001b[0;31m# The \"self\" in this scope is referring to the BaseClient.\u001b[0m\u001b[0;34m\u001b[0m\u001b[0;34m\u001b[0m\u001b[0m\n\u001b[0;32m--> 316\u001b[0;31m             \u001b[0;32mreturn\u001b[0m \u001b[0mself\u001b[0m\u001b[0;34m.\u001b[0m\u001b[0m_make_api_call\u001b[0m\u001b[0;34m(\u001b[0m\u001b[0moperation_name\u001b[0m\u001b[0;34m,\u001b[0m \u001b[0mkwargs\u001b[0m\u001b[0;34m)\u001b[0m\u001b[0;34m\u001b[0m\u001b[0m\n\u001b[0m\u001b[1;32m    317\u001b[0m \u001b[0;34m\u001b[0m\u001b[0m\n\u001b[1;32m    318\u001b[0m         \u001b[0m_api_call\u001b[0m\u001b[0;34m.\u001b[0m\u001b[0m__name__\u001b[0m \u001b[0;34m=\u001b[0m \u001b[0mstr\u001b[0m\u001b[0;34m(\u001b[0m\u001b[0mpy_operation_name\u001b[0m\u001b[0;34m)\u001b[0m\u001b[0;34m\u001b[0m\u001b[0m\n",
      "\u001b[0;32m~/anaconda3/envs/python3/lib/python3.6/site-packages/botocore/client.py\u001b[0m in \u001b[0;36m_make_api_call\u001b[0;34m(self, operation_name, api_params)\u001b[0m\n\u001b[1;32m    624\u001b[0m             \u001b[0merror_code\u001b[0m \u001b[0;34m=\u001b[0m \u001b[0mparsed_response\u001b[0m\u001b[0;34m.\u001b[0m\u001b[0mget\u001b[0m\u001b[0;34m(\u001b[0m\u001b[0;34m\"Error\"\u001b[0m\u001b[0;34m,\u001b[0m \u001b[0;34m{\u001b[0m\u001b[0;34m}\u001b[0m\u001b[0;34m)\u001b[0m\u001b[0;34m.\u001b[0m\u001b[0mget\u001b[0m\u001b[0;34m(\u001b[0m\u001b[0;34m\"Code\"\u001b[0m\u001b[0;34m)\u001b[0m\u001b[0;34m\u001b[0m\u001b[0m\n\u001b[1;32m    625\u001b[0m             \u001b[0merror_class\u001b[0m \u001b[0;34m=\u001b[0m \u001b[0mself\u001b[0m\u001b[0;34m.\u001b[0m\u001b[0mexceptions\u001b[0m\u001b[0;34m.\u001b[0m\u001b[0mfrom_code\u001b[0m\u001b[0;34m(\u001b[0m\u001b[0merror_code\u001b[0m\u001b[0;34m)\u001b[0m\u001b[0;34m\u001b[0m\u001b[0m\n\u001b[0;32m--> 626\u001b[0;31m             \u001b[0;32mraise\u001b[0m \u001b[0merror_class\u001b[0m\u001b[0;34m(\u001b[0m\u001b[0mparsed_response\u001b[0m\u001b[0;34m,\u001b[0m \u001b[0moperation_name\u001b[0m\u001b[0;34m)\u001b[0m\u001b[0;34m\u001b[0m\u001b[0m\n\u001b[0m\u001b[1;32m    627\u001b[0m         \u001b[0;32melse\u001b[0m\u001b[0;34m:\u001b[0m\u001b[0;34m\u001b[0m\u001b[0m\n\u001b[1;32m    628\u001b[0m             \u001b[0;32mreturn\u001b[0m \u001b[0mparsed_response\u001b[0m\u001b[0;34m\u001b[0m\u001b[0m\n",
      "\u001b[0;31mTrailAlreadyExistsException\u001b[0m: An error occurred (TrailAlreadyExistsException) when calling the CreateTrail operation: Trail timeseries-trail already exists for customer: 805433377179"
     ]
    }
   ],
   "source": [
    "cloudtrail.create_trail(\n",
    "    Name='timeseries-trail',\n",
    "    S3BucketName=output_trail_bucket\n",
    ")"
   ]
  },
  {
   "cell_type": "code",
   "execution_count": 195,
   "metadata": {},
   "outputs": [
    {
     "data": {
      "text/plain": [
       "{'TrailARN': 'arn:aws:cloudtrail:us-east-2:805433377179:trail/timeseries-trail',\n",
       " 'EventSelectors': [{'ReadWriteType': 'All',\n",
       "   'IncludeManagementEvents': True,\n",
       "   'DataResources': [{'Type': 'AWS::S3::Object',\n",
       "     'Values': ['arn:aws:s3:::timeseriesblog-805433377179/']}],\n",
       "   'ExcludeManagementEventSources': []}],\n",
       " 'ResponseMetadata': {'RequestId': 'a0b80efe-0c76-41fd-b57f-6cdbe933faf2',\n",
       "  'HTTPStatusCode': 200,\n",
       "  'HTTPHeaders': {'x-amzn-requestid': 'a0b80efe-0c76-41fd-b57f-6cdbe933faf2',\n",
       "   'content-type': 'application/x-amz-json-1.1',\n",
       "   'content-length': '288',\n",
       "   'date': 'Wed, 01 Jul 2020 18:13:37 GMT'},\n",
       "  'RetryAttempts': 0}}"
      ]
     },
     "execution_count": 195,
     "metadata": {},
     "output_type": "execute_result"
    }
   ],
   "source": [
    "cloudtrail.put_event_selectors(\n",
    "    TrailName='timeseries-trail',\n",
    "    EventSelectors=[\n",
    "        {\n",
    "            'ReadWriteType': 'All',\n",
    "            'IncludeManagementEvents': True,\n",
    "            'DataResources': [\n",
    "                {\n",
    "                    'Type': 'AWS::S3::Object',\n",
    "                    'Values': [\n",
    "                        f'arn:aws:s3:::{bucket_name}/',\n",
    "                    ]\n",
    "                },\n",
    "            ]\n",
    "        },\n",
    "    ]\n",
    ")"
   ]
  },
  {
   "cell_type": "code",
   "execution_count": 196,
   "metadata": {},
   "outputs": [
    {
     "data": {
      "text/plain": [
       "{'trailList': [{'Name': 'IsengardTrail-DO-NOT-DELETE',\n",
       "   'S3BucketName': 'cloudtrail-awslogs-805433377179-ldutrjkl-isengard-do-not-delete',\n",
       "   'IncludeGlobalServiceEvents': True,\n",
       "   'IsMultiRegionTrail': True,\n",
       "   'HomeRegion': 'us-east-1',\n",
       "   'TrailARN': 'arn:aws:cloudtrail:us-east-1:805433377179:trail/IsengardTrail-DO-NOT-DELETE',\n",
       "   'LogFileValidationEnabled': True,\n",
       "   'HasCustomEventSelectors': False,\n",
       "   'HasInsightSelectors': False,\n",
       "   'IsOrganizationTrail': False},\n",
       "  {'Name': 'S3Event',\n",
       "   'S3BucketName': 'yshiy-sfn-tutorial-ctrail',\n",
       "   'IncludeGlobalServiceEvents': True,\n",
       "   'IsMultiRegionTrail': True,\n",
       "   'HomeRegion': 'us-east-2',\n",
       "   'TrailARN': 'arn:aws:cloudtrail:us-east-2:805433377179:trail/S3Event',\n",
       "   'LogFileValidationEnabled': True,\n",
       "   'HasCustomEventSelectors': True,\n",
       "   'HasInsightSelectors': False,\n",
       "   'IsOrganizationTrail': False},\n",
       "  {'Name': 'testS3',\n",
       "   'S3BucketName': 'timeseriesblog-805433377179-trail',\n",
       "   'IncludeGlobalServiceEvents': True,\n",
       "   'IsMultiRegionTrail': True,\n",
       "   'HomeRegion': 'us-east-2',\n",
       "   'TrailARN': 'arn:aws:cloudtrail:us-east-2:805433377179:trail/testS3',\n",
       "   'LogFileValidationEnabled': True,\n",
       "   'HasCustomEventSelectors': True,\n",
       "   'HasInsightSelectors': False,\n",
       "   'IsOrganizationTrail': False},\n",
       "  {'Name': 'timeseries-trail',\n",
       "   'S3BucketName': 'timeseriesblog-805433377179-trail',\n",
       "   'IncludeGlobalServiceEvents': True,\n",
       "   'IsMultiRegionTrail': False,\n",
       "   'HomeRegion': 'us-east-2',\n",
       "   'TrailARN': 'arn:aws:cloudtrail:us-east-2:805433377179:trail/timeseries-trail',\n",
       "   'LogFileValidationEnabled': False,\n",
       "   'HasCustomEventSelectors': True,\n",
       "   'HasInsightSelectors': False,\n",
       "   'IsOrganizationTrail': False}],\n",
       " 'ResponseMetadata': {'RequestId': '2d949400-a39f-47eb-bd94-0bdc0e9c3c8c',\n",
       "  'HTTPStatusCode': 200,\n",
       "  'HTTPHeaders': {'x-amzn-requestid': '2d949400-a39f-47eb-bd94-0bdc0e9c3c8c',\n",
       "   'content-type': 'application/x-amz-json-1.1',\n",
       "   'content-length': '1468',\n",
       "   'date': 'Wed, 01 Jul 2020 18:14:29 GMT'},\n",
       "  'RetryAttempts': 0}}"
      ]
     },
     "execution_count": 196,
     "metadata": {},
     "output_type": "execute_result"
    }
   ],
   "source": [
    "### Confirmation\n",
    "cloudtrail.describe_trails()"
   ]
  },
  {
   "cell_type": "code",
   "execution_count": 192,
   "metadata": {},
   "outputs": [
    {
     "data": {
      "text/plain": [
       "{'TrailARN': 'arn:aws:cloudtrail:us-east-2:805433377179:trail/S3Event',\n",
       " 'EventSelectors': [{'ReadWriteType': 'All',\n",
       "   'IncludeManagementEvents': True,\n",
       "   'DataResources': [{'Type': 'AWS::S3::Object',\n",
       "     'Values': ['arn:aws:s3:::yshiy-sfn-tutorial/']}],\n",
       "   'ExcludeManagementEventSources': []}],\n",
       " 'ResponseMetadata': {'RequestId': '188bf02e-916e-4d60-ada0-70d52410a82b',\n",
       "  'HTTPStatusCode': 200,\n",
       "  'HTTPHeaders': {'x-amzn-requestid': '188bf02e-916e-4d60-ada0-70d52410a82b',\n",
       "   'content-type': 'application/x-amz-json-1.1',\n",
       "   'content-length': '270',\n",
       "   'date': 'Wed, 01 Jul 2020 18:10:54 GMT'},\n",
       "  'RetryAttempts': 0}}"
      ]
     },
     "execution_count": 192,
     "metadata": {},
     "output_type": "execute_result"
    }
   ],
   "source": [
    "### Confirmation\n",
    "cloudtrail.get_event_selectors(\n",
    "    TrailName='S3Event'\n",
    ")"
   ]
  },
  {
   "cell_type": "markdown",
   "metadata": {},
   "source": [
    "# Step 3: Create a CloudWatch Event Rule  \n",
    "https://boto3.amazonaws.com/v1/documentation/api/1.9.42/reference/services/events.html\n",
    "\n",
    "\n",
    "put_rule(): create rule  \n",
    "https://boto3.amazonaws.com/v1/documentation/api/1.9.42/reference/services/events.html#CloudWatchEvents.Client.put_rule\n"
   ]
  },
  {
   "cell_type": "code",
   "execution_count": 155,
   "metadata": {},
   "outputs": [
    {
     "data": {
      "text/plain": [
       "'timeseriesblog-805433377179'"
      ]
     },
     "execution_count": 155,
     "metadata": {},
     "output_type": "execute_result"
    }
   ],
   "source": [
    "bucket_name"
   ]
  },
  {
   "cell_type": "code",
   "execution_count": 119,
   "metadata": {},
   "outputs": [],
   "source": [
    "cwe = boto3.client('events')"
   ]
  },
  {
   "cell_type": "code",
   "execution_count": 150,
   "metadata": {},
   "outputs": [],
   "source": [
    "ep_str ='{\"source\":[\"aws.s3\"], \\\n",
    "        \"detail-type\":[\"AWS API Call via CloudTrail\"], \\\n",
    "        \"detail\":{\"eventSource\":[\"s3.amazonaws.com\"], \\\n",
    "        \"eventName\":[\"PutObject\"], \\\n",
    "        \"requestParameters\":{\"bucketName\":[\"'+ bucket_name + '\"]}}}'"
   ]
  },
  {
   "cell_type": "code",
   "execution_count": 151,
   "metadata": {},
   "outputs": [
    {
     "data": {
      "text/plain": [
       "'{\"source\":[\"aws.s3\"],         \"detail-type\":[\"AWS API Call via CloudTrail\"],         \"detail\":{\"eventSource\":[\"s3.amazonaws.com\"],         \"eventName\":[\"PutObject\"],         \"requestParameters\":{\"bucketName\":[\"timeseriesblog-805433377179\"]}}}'"
      ]
     },
     "execution_count": 151,
     "metadata": {},
     "output_type": "execute_result"
    }
   ],
   "source": [
    "ep_str"
   ]
  },
  {
   "cell_type": "code",
   "execution_count": 176,
   "metadata": {},
   "outputs": [
    {
     "data": {
      "text/plain": [
       "{'RuleArn': 'arn:aws:events:us-east-2:805433377179:rule/timeseries',\n",
       " 'ResponseMetadata': {'RequestId': '230c38c3-6cbf-4e26-8e45-9c56c4d47bd0',\n",
       "  'HTTPStatusCode': 200,\n",
       "  'HTTPHeaders': {'x-amzn-requestid': '230c38c3-6cbf-4e26-8e45-9c56c4d47bd0',\n",
       "   'content-type': 'application/x-amz-json-1.1',\n",
       "   'content-length': '67',\n",
       "   'date': 'Wed, 01 Jul 2020 17:00:35 GMT'},\n",
       "  'RetryAttempts': 0}}"
      ]
     },
     "execution_count": 176,
     "metadata": {},
     "output_type": "execute_result"
    }
   ],
   "source": [
    "cwe.put_rule(\n",
    "    Name='timeseries',\n",
    "    EventPattern=ep_str,\n",
    "    State='ENABLED'\n",
    ")"
   ]
  },
  {
   "cell_type": "markdown",
   "metadata": {},
   "source": [
    "### Creating target in rule"
   ]
  },
  {
   "cell_type": "code",
   "execution_count": 201,
   "metadata": {},
   "outputs": [
    {
     "data": {
      "text/plain": [
       "{'Targets': [{'Id': 'Id8665003410183',\n",
       "   'Arn': 'arn:aws:states:us-east-2:805433377179:stateMachine:Helloworld_test',\n",
       "   'RoleArn': 'arn:aws:iam::805433377179:role/service-role/AWS_Events_Invoke_Step_Functions_698556836'}],\n",
       " 'ResponseMetadata': {'RequestId': '4ecc022a-2930-4fea-804f-b1c8175f33f5',\n",
       "  'HTTPStatusCode': 200,\n",
       "  'HTTPHeaders': {'x-amzn-requestid': '4ecc022a-2930-4fea-804f-b1c8175f33f5',\n",
       "   'content-type': 'application/x-amz-json-1.1',\n",
       "   'content-length': '212',\n",
       "   'date': 'Wed, 01 Jul 2020 16:48:14 GMT'},\n",
       "  'RetryAttempts': 0}}"
      ]
     },
     "execution_count": 201,
     "metadata": {},
     "output_type": "execute_result"
    }
   ],
   "source": [
    "{'Targets': [{'Id': 'Id8665003410183',\n",
    "   'Arn': 'arn:aws:states:us-east-2:805433377179:stateMachine:Helloworld_test',\n",
    "   'RoleArn': 'arn:aws:iam::805433377179:role/service-role/AWS_Events_Invoke_Step_Functions_698556836'}],\n",
    " 'ResponseMetadata': {'RequestId': '4ecc022a-2930-4fea-804f-b1c8175f33f5',\n",
    "  'HTTPStatusCode': 200,\n",
    "  'HTTPHeaders': {'x-amzn-requestid': '4ecc022a-2930-4fea-804f-b1c8175f33f5',\n",
    "   'content-type': 'application/x-amz-json-1.1',\n",
    "   'content-length': '212',\n",
    "   'date': 'Wed, 01 Jul 2020 16:48:14 GMT'},\n",
    "  'RetryAttempts': 0}}"
   ]
  },
  {
   "cell_type": "code",
   "execution_count": 202,
   "metadata": {},
   "outputs": [
    {
     "data": {
      "text/plain": [
       "{'Targets': [{'Id': 'Id13484359914158',\n",
       "   'Arn': 'arn:aws:states:us-east-2:805433377179:stateMachine:foo',\n",
       "   'RoleArn': 'arn:aws:iam::805433377179:role/service-role/AWS_Events_Invoke_Step_Functions_1530838487'}],\n",
       " 'ResponseMetadata': {'RequestId': 'd2008ba2-56a4-415f-bcb8-77536d70061a',\n",
       "  'HTTPStatusCode': 200,\n",
       "  'HTTPHeaders': {'x-amzn-requestid': 'd2008ba2-56a4-415f-bcb8-77536d70061a',\n",
       "   'content-type': 'application/x-amz-json-1.1',\n",
       "   'content-length': '202',\n",
       "   'date': 'Wed, 01 Jul 2020 18:19:28 GMT'},\n",
       "  'RetryAttempts': 0}}"
      ]
     },
     "execution_count": 202,
     "metadata": {},
     "output_type": "execute_result"
    }
   ],
   "source": [
    "{'Targets': [{'Id': 'Id13484359914158',\n",
    "   'Arn': 'arn:aws:states:us-east-2:805433377179:stateMachine:foo',\n",
    "   'RoleArn': 'arn:aws:iam::805433377179:role/service-role/AWS_Events_Invoke_Step_Functions_1530838487'}],\n",
    " 'ResponseMetadata': {'RequestId': 'd2008ba2-56a4-415f-bcb8-77536d70061a',\n",
    "  'HTTPStatusCode': 200,\n",
    "  'HTTPHeaders': {'x-amzn-requestid': 'd2008ba2-56a4-415f-bcb8-77536d70061a',\n",
    "   'content-type': 'application/x-amz-json-1.1',\n",
    "   'content-length': '202',\n",
    "   'date': 'Wed, 01 Jul 2020 18:19:28 GMT'},\n",
    "  'RetryAttempts': 0}}"
   ]
  },
  {
   "cell_type": "code",
   "execution_count": 205,
   "metadata": {},
   "outputs": [
    {
     "data": {
      "text/plain": [
       "{'FailedEntryCount': 0,\n",
       " 'FailedEntries': [],\n",
       " 'ResponseMetadata': {'RequestId': '151c0d25-9797-4ed6-ac98-a558cab53c66',\n",
       "  'HTTPStatusCode': 200,\n",
       "  'HTTPHeaders': {'x-amzn-requestid': '151c0d25-9797-4ed6-ac98-a558cab53c66',\n",
       "   'content-type': 'application/x-amz-json-1.1',\n",
       "   'content-length': '41',\n",
       "   'date': 'Wed, 01 Jul 2020 18:22:55 GMT'},\n",
       "  'RetryAttempts': 0}}"
      ]
     },
     "execution_count": 205,
     "metadata": {},
     "output_type": "execute_result"
    }
   ],
   "source": [
    "cwe.put_targets(\n",
    "    Rule='timeseries',\n",
    "    Targets=[\n",
    "        {\n",
    "            'Id': 'Id13484359914158',\n",
    "            'Arn': 'arn:aws:states:us-east-2:805433377179:stateMachine:foo',\n",
    "            'RoleArn': 'arn:aws:iam::805433377179:role/service-role/AWS_Events_Invoke_Step_Functions_1530838487'\n",
    "        }\n",
    "    ]\n",
    ")"
   ]
  },
  {
   "cell_type": "code",
   "execution_count": 165,
   "metadata": {},
   "outputs": [
    {
     "data": {
      "text/plain": [
       "{'Name': 'S3StepFunctions',\n",
       " 'Arn': 'arn:aws:events:us-east-2:805433377179:rule/S3StepFunctions',\n",
       " 'EventPattern': '{\"source\":[\"aws.s3\"],\"detail-type\":[\"AWS API Call via CloudTrail\"],\"detail\":{\"eventSource\":[\"s3.amazonaws.com\"],\"eventName\":[\"PutObject\"],\"requestParameters\":{\"bucketName\":[\"yshiy-sfn-tutorial\"]}}}',\n",
       " 'State': 'ENABLED',\n",
       " 'EventBusName': 'default',\n",
       " 'ResponseMetadata': {'RequestId': 'f9d80ebc-ce7b-48dd-9cb5-2c227534d30f',\n",
       "  'HTTPStatusCode': 200,\n",
       "  'HTTPHeaders': {'x-amzn-requestid': 'f9d80ebc-ce7b-48dd-9cb5-2c227534d30f',\n",
       "   'content-type': 'application/x-amz-json-1.1',\n",
       "   'content-length': '375',\n",
       "   'date': 'Wed, 01 Jul 2020 16:47:24 GMT'},\n",
       "  'RetryAttempts': 0}}"
      ]
     },
     "execution_count": 165,
     "metadata": {},
     "output_type": "execute_result"
    }
   ],
   "source": [
    "### confirmation\n",
    "cwe.describe_rule(Name='S3StepFunctions')"
   ]
  },
  {
   "cell_type": "code",
   "execution_count": 199,
   "metadata": {},
   "outputs": [
    {
     "data": {
      "text/plain": [
       "{'Targets': [{'Id': 'Id8665003410183',\n",
       "   'Arn': 'arn:aws:states:us-east-2:805433377179:stateMachine:Helloworld_test',\n",
       "   'RoleArn': 'arn:aws:iam::805433377179:role/service-role/AWS_Events_Invoke_Step_Functions_698556836'}],\n",
       " 'ResponseMetadata': {'RequestId': 'b21e2855-f72d-40f3-bfba-754a2c4c9dd4',\n",
       "  'HTTPStatusCode': 200,\n",
       "  'HTTPHeaders': {'x-amzn-requestid': 'b21e2855-f72d-40f3-bfba-754a2c4c9dd4',\n",
       "   'content-type': 'application/x-amz-json-1.1',\n",
       "   'content-length': '212',\n",
       "   'date': 'Wed, 01 Jul 2020 18:19:22 GMT'},\n",
       "  'RetryAttempts': 0}}"
      ]
     },
     "execution_count": 199,
     "metadata": {},
     "output_type": "execute_result"
    }
   ],
   "source": [
    "### confirmation\n",
    "cwe.list_targets_by_rule(Rule='S3StepFunctions')"
   ]
  },
  {
   "cell_type": "code",
   "execution_count": 200,
   "metadata": {},
   "outputs": [
    {
     "data": {
      "text/plain": [
       "{'Targets': [{'Id': 'Id13484359914158',\n",
       "   'Arn': 'arn:aws:states:us-east-2:805433377179:stateMachine:foo',\n",
       "   'RoleArn': 'arn:aws:iam::805433377179:role/service-role/AWS_Events_Invoke_Step_Functions_1530838487'}],\n",
       " 'ResponseMetadata': {'RequestId': 'd2008ba2-56a4-415f-bcb8-77536d70061a',\n",
       "  'HTTPStatusCode': 200,\n",
       "  'HTTPHeaders': {'x-amzn-requestid': 'd2008ba2-56a4-415f-bcb8-77536d70061a',\n",
       "   'content-type': 'application/x-amz-json-1.1',\n",
       "   'content-length': '202',\n",
       "   'date': 'Wed, 01 Jul 2020 18:19:28 GMT'},\n",
       "  'RetryAttempts': 0}}"
      ]
     },
     "execution_count": 200,
     "metadata": {},
     "output_type": "execute_result"
    }
   ],
   "source": [
    "### confirmation\n",
    "cwe.list_targets_by_rule(Rule='timeseries')"
   ]
  },
  {
   "cell_type": "markdown",
   "metadata": {},
   "source": [
    "# Step 4: Test your CloudWatch rules \n",
    "Upload the file to s3  \n",
    "Even if you don't delete a file, it will be triggered if it is re-uploaded."
   ]
  },
  {
   "cell_type": "code",
   "execution_count": 163,
   "metadata": {},
   "outputs": [
    {
     "data": {
      "text/plain": [
       "'timeseriesblog-805433377179'"
      ]
     },
     "execution_count": 163,
     "metadata": {},
     "output_type": "execute_result"
    }
   ],
   "source": [
    "bucket_name"
   ]
  },
  {
   "cell_type": "code",
   "execution_count": 198,
   "metadata": {},
   "outputs": [],
   "source": [
    "s3 = boto3.resource('s3') #S3オブジェクトを取得\n",
    "\n",
    "bucket = s3.Bucket(bucket_name)\n",
    "bucket.upload_file('./test.csv', 'test.csv')"
   ]
  },
  {
   "cell_type": "code",
   "execution_count": null,
   "metadata": {},
   "outputs": [],
   "source": []
  },
  {
   "cell_type": "markdown",
   "metadata": {},
   "source": [
    "# Wait for Amazon Forecast to train and predict for a while (2h?)"
   ]
  },
  {
   "cell_type": "markdown",
   "metadata": {},
   "source": [
    "# Visualization in QuickSight (manually) Here we visualize the prediction results in python"
   ]
  },
  {
   "cell_type": "code",
   "execution_count": 172,
   "metadata": {},
   "outputs": [],
   "source": [
    "import pandas as pd"
   ]
  },
  {
   "cell_type": "code",
   "execution_count": 1,
   "metadata": {},
   "outputs": [],
   "source": [
    "#load from S3\n"
   ]
  },
  {
   "cell_type": "code",
   "execution_count": 2,
   "metadata": {},
   "outputs": [],
   "source": [
    "#Visualization by matplotlib"
   ]
  },
  {
   "cell_type": "markdown",
   "metadata": {},
   "source": [
    "# (WIP)deleting resource\n",
    "・S3 bucket  \n",
    "・SFn  \n",
    "・Cloud Trail  \n",
    "・Cloud Watch Event  \n",
    "・Amazon Forecast dataset, predictor, forecast  \n",
    "・QuickSight(manually)  \n"
   ]
  },
  {
   "cell_type": "code",
   "execution_count": null,
   "metadata": {},
   "outputs": [],
   "source": []
  },
  {
   "cell_type": "code",
   "execution_count": null,
   "metadata": {},
   "outputs": [],
   "source": []
  },
  {
   "cell_type": "code",
   "execution_count": null,
   "metadata": {},
   "outputs": [],
   "source": []
  }
 ],
 "metadata": {
  "kernelspec": {
   "display_name": "conda_python3",
   "language": "python",
   "name": "conda_python3"
  },
  "language_info": {
   "codemirror_mode": {
    "name": "ipython",
    "version": 3
   },
   "file_extension": ".py",
   "mimetype": "text/x-python",
   "name": "python",
   "nbconvert_exporter": "python",
   "pygments_lexer": "ipython3",
   "version": "3.6.5"
  }
 },
 "nbformat": 4,
 "nbformat_minor": 4
}
