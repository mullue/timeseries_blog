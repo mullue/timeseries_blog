{
 "cells": [
  {
   "cell_type": "markdown",
   "metadata": {},
   "source": [
    "# Building an Automated Pipeline for Amazon Forecast\n",
    "When a file is put in S3 with data for training, build a pipeline that automatically performs data import, training, forecasting, and exporting of predictions in Amazon Forecast.\n",
    "We use Step Functions and Lambda."
   ]
  },
  {
   "cell_type": "markdown",
   "metadata": {},
   "source": [
    "# Configure SageMaker role\n",
    "Attach policies for the services you use and also set up trust relationships, as shown in the figure below."
   ]
  },
  {
   "cell_type": "markdown",
   "metadata": {},
   "source": [
    "![IAMroles_Permissions](https://user-images.githubusercontent.com/27226946/89102049-7d18e380-d440-11ea-91a6-6ab2c7e63870.png)"
   ]
  },
  {
   "cell_type": "markdown",
   "metadata": {},
   "source": [
    "![IAMroles_TrustRelationships](https://user-images.githubusercontent.com/27226946/89102054-84d88800-d440-11ea-9199-0583be09aa1c.png)"
   ]
  },
  {
   "cell_type": "markdown",
   "metadata": {},
   "source": [
    "Edit trust relationship should be written as follows."
   ]
  },
  {
   "cell_type": "code",
   "execution_count": null,
   "metadata": {},
   "outputs": [],
   "source": [
    "{\n",
    "  \"Version\": \"2012-10-17\",\n",
    "  \"Statement\": [\n",
    "    {\n",
    "      \"Effect\": \"Allow\",\n",
    "      \"Principal\": {\n",
    "        \"Service\": \"sagemaker.amazonaws.com\"\n",
    "      },\n",
    "      \"Action\": \"sts:AssumeRole\"\n",
    "    },\n",
    "    {\n",
    "      \"Effect\": \"Allow\",\n",
    "      \"Principal\": {\n",
    "        \"Service\": \"forecast.amazonaws.com\"\n",
    "      },\n",
    "      \"Action\": \"sts:AssumeRole\"\n",
    "    },\n",
    "    {\n",
    "      \"Effect\": \"Allow\",\n",
    "      \"Principal\": {\n",
    "        \"Service\": \"lambda.amazonaws.com\"\n",
    "      },\n",
    "      \"Action\": \"sts:AssumeRole\"\n",
    "    },\n",
    "    {\n",
    "      \"Effect\": \"Allow\",\n",
    "      \"Principal\": {\n",
    "        \"Service\": \"events.amazonaws.com\"\n",
    "      },\n",
    "      \"Action\": \"sts:AssumeRole\"\n",
    "    },\n",
    "    {\n",
    "      \"Effect\": \"Allow\",\n",
    "      \"Principal\": {\n",
    "        \"Service\": \"states.amazonaws.com\"\n",
    "      },\n",
    "      \"Action\": \"sts:AssumeRole\"\n",
    "    }\n",
    "  ]\n",
    "}"
   ]
  },
  {
   "cell_type": "markdown",
   "metadata": {},
   "source": [
    "## Getting SageMaker role"
   ]
  },
  {
   "cell_type": "code",
   "execution_count": 1,
   "metadata": {},
   "outputs": [],
   "source": [
    "from sagemaker import get_execution_role\n",
    "\n",
    "role_sm = get_execution_role()"
   ]
  },
  {
   "cell_type": "code",
   "execution_count": 2,
   "metadata": {},
   "outputs": [
    {
     "data": {
      "text/plain": [
       "'arn:aws:iam::805433377179:role/service-role/AmazonSageMaker-ExecutionRole-20200716T084970'"
      ]
     },
     "execution_count": 2,
     "metadata": {},
     "output_type": "execute_result"
    }
   ],
   "source": [
    "role_sm"
   ]
  },
  {
   "cell_type": "markdown",
   "metadata": {},
   "source": [
    "# 1.make Lambda function\n",
    "We will create a Lambda function. The files we will use are located in lambdas/."
   ]
  },
  {
   "cell_type": "code",
   "execution_count": 3,
   "metadata": {},
   "outputs": [],
   "source": [
    "import boto3"
   ]
  },
  {
   "cell_type": "code",
   "execution_count": 4,
   "metadata": {},
   "outputs": [],
   "source": [
    "lambda_ = boto3.client('lambda')"
   ]
  },
  {
   "cell_type": "code",
   "execution_count": 5,
   "metadata": {},
   "outputs": [
    {
     "name": "stdout",
     "output_type": "stream",
     "text": [
      "  adding: datasetimport.py (deflated 54%)\n",
      "  adding: .ipynb_checkpoints/ (stored 0%)\n",
      "  adding: .ipynb_checkpoints/datasetimport-checkpoint.py (deflated 54%)\n"
     ]
    },
    {
     "data": {
      "text/plain": [
       "{'ResponseMetadata': {'RequestId': 'f50b2b66-af46-4ac1-8ae1-1bbb4ba5e8cd',\n",
       "  'HTTPStatusCode': 201,\n",
       "  'HTTPHeaders': {'date': 'Sat, 01 Aug 2020 13:19:08 GMT',\n",
       "   'content-type': 'application/json',\n",
       "   'content-length': '894',\n",
       "   'connection': 'keep-alive',\n",
       "   'x-amzn-requestid': 'f50b2b66-af46-4ac1-8ae1-1bbb4ba5e8cd'},\n",
       "  'RetryAttempts': 0},\n",
       " 'FunctionName': 'datasetimport',\n",
       " 'FunctionArn': 'arn:aws:lambda:us-east-1:805433377179:function:datasetimport',\n",
       " 'Runtime': 'python3.7',\n",
       " 'Role': 'arn:aws:iam::805433377179:role/service-role/AmazonSageMaker-ExecutionRole-20200716T084970',\n",
       " 'Handler': 'datasetimport.lambda_handler',\n",
       " 'CodeSize': 1330,\n",
       " 'Description': '',\n",
       " 'Timeout': 900,\n",
       " 'MemorySize': 3008,\n",
       " 'LastModified': '2020-08-01T13:19:08.367+0000',\n",
       " 'CodeSha256': 'J3eD8ZAuZBSsgYctOvOKYsZ14tLjFmZYQIlUNH9/Hfg=',\n",
       " 'Version': '$LATEST',\n",
       " 'TracingConfig': {'Mode': 'PassThrough'},\n",
       " 'RevisionId': 'b8d34d4e-e05d-4124-a7d3-c52c91d58497',\n",
       " 'State': 'Active',\n",
       " 'LastUpdateStatus': 'Successful'}"
      ]
     },
     "execution_count": 5,
     "metadata": {},
     "output_type": "execute_result"
    }
   ],
   "source": [
    "!rm -f lambdas/createdatasetimport/datasetimport.zip\n",
    "!cd lambdas/createdatasetimport; zip -r datasetimport .\n",
    "\n",
    "zip_file = open(\"lambdas/createdatasetimport/datasetimport.zip\", \"rb\").read()\n",
    "\n",
    "\n",
    "lambda_.create_function(\n",
    "    FunctionName=\"datasetimport\",\n",
    "    Runtime=\"python3.7\",\n",
    "    Role=role_sm,\n",
    "    Handler=\"datasetimport.lambda_handler\",\n",
    "    Code={\"ZipFile\": zip_file},\n",
    "    Timeout=60*15,\n",
    "    MemorySize=3008\n",
    ")"
   ]
  },
  {
   "cell_type": "code",
   "execution_count": 6,
   "metadata": {},
   "outputs": [
    {
     "name": "stdout",
     "output_type": "stream",
     "text": [
      "  adding: .ipynb_checkpoints/ (stored 0%)\n",
      "  adding: .ipynb_checkpoints/getstatusimport-checkpoint.py (deflated 46%)\n",
      "  adding: getstatusimport.py (deflated 46%)\n"
     ]
    },
    {
     "data": {
      "text/plain": [
       "{'ResponseMetadata': {'RequestId': 'c596aa8f-d100-4c8e-860a-5283d9eeea9f',\n",
       "  'HTTPStatusCode': 201,\n",
       "  'HTTPHeaders': {'date': 'Sat, 01 Aug 2020 13:19:10 GMT',\n",
       "   'content-type': 'application/json',\n",
       "   'content-length': '899',\n",
       "   'connection': 'keep-alive',\n",
       "   'x-amzn-requestid': 'c596aa8f-d100-4c8e-860a-5283d9eeea9f'},\n",
       "  'RetryAttempts': 0},\n",
       " 'FunctionName': 'getstatusimport',\n",
       " 'FunctionArn': 'arn:aws:lambda:us-east-1:805433377179:function:getstatusimport',\n",
       " 'Runtime': 'python3.7',\n",
       " 'Role': 'arn:aws:iam::805433377179:role/service-role/AmazonSageMaker-ExecutionRole-20200716T084970',\n",
       " 'Handler': 'getstatusimport.lambda_handler',\n",
       " 'CodeSize': 976,\n",
       " 'Description': '',\n",
       " 'Timeout': 900,\n",
       " 'MemorySize': 3008,\n",
       " 'LastModified': '2020-08-01T13:19:10.390+0000',\n",
       " 'CodeSha256': 'KgnL0F8/xZlha2Zso7TAWHKESF9w8jBzSp22XPzN3Qc=',\n",
       " 'Version': '$LATEST',\n",
       " 'TracingConfig': {'Mode': 'PassThrough'},\n",
       " 'RevisionId': '4f5a5dba-71aa-4ebd-844c-7608e3256f76',\n",
       " 'State': 'Active',\n",
       " 'LastUpdateStatus': 'Successful'}"
      ]
     },
     "execution_count": 6,
     "metadata": {},
     "output_type": "execute_result"
    }
   ],
   "source": [
    "!rm -f lambdas/GetStatusImport/getstatusimport.zip\n",
    "!cd lambdas/GetStatusImport; zip -r getstatusimport .\n",
    "\n",
    "zip_file = open(\"lambdas/GetStatusImport/getstatusimport.zip\", \"rb\").read()\n",
    "\n",
    "lambda_.create_function(\n",
    "    FunctionName=\"getstatusimport\",\n",
    "    Runtime=\"python3.7\",\n",
    "    Role=role_sm,\n",
    "    Handler=\"getstatusimport.lambda_handler\",\n",
    "    Code={\"ZipFile\": zip_file},\n",
    "    Timeout=60*15,\n",
    "    MemorySize=3008\n",
    ")"
   ]
  },
  {
   "cell_type": "code",
   "execution_count": 7,
   "metadata": {},
   "outputs": [
    {
     "name": "stdout",
     "output_type": "stream",
     "text": [
      "  adding: predictor.py (deflated 56%)\n"
     ]
    },
    {
     "data": {
      "text/plain": [
       "{'ResponseMetadata': {'RequestId': '5379297f-7fb3-44d8-bbbc-e52a3b56d28e',\n",
       "  'HTTPStatusCode': 201,\n",
       "  'HTTPHeaders': {'date': 'Sat, 01 Aug 2020 13:19:11 GMT',\n",
       "   'content-type': 'application/json',\n",
       "   'content-length': '881',\n",
       "   'connection': 'keep-alive',\n",
       "   'x-amzn-requestid': '5379297f-7fb3-44d8-bbbc-e52a3b56d28e'},\n",
       "  'RetryAttempts': 0},\n",
       " 'FunctionName': 'predictor',\n",
       " 'FunctionArn': 'arn:aws:lambda:us-east-1:805433377179:function:predictor',\n",
       " 'Runtime': 'python3.7',\n",
       " 'Role': 'arn:aws:iam::805433377179:role/service-role/AmazonSageMaker-ExecutionRole-20200716T084970',\n",
       " 'Handler': 'predictor.lambda_handler',\n",
       " 'CodeSize': 645,\n",
       " 'Description': '',\n",
       " 'Timeout': 900,\n",
       " 'MemorySize': 3008,\n",
       " 'LastModified': '2020-08-01T13:19:11.822+0000',\n",
       " 'CodeSha256': 'ozekRr7hwZFxQxduOnRc7zUB8yRzFMFFIkSxbDr80cg=',\n",
       " 'Version': '$LATEST',\n",
       " 'TracingConfig': {'Mode': 'PassThrough'},\n",
       " 'RevisionId': 'ce0614ac-f1ba-4992-8df7-c050f58ea273',\n",
       " 'State': 'Active',\n",
       " 'LastUpdateStatus': 'Successful'}"
      ]
     },
     "execution_count": 7,
     "metadata": {},
     "output_type": "execute_result"
    }
   ],
   "source": [
    "!rm -f lambdas/createpredictor/predictor.zip\n",
    "!cd lambdas/createpredictor; zip -r predictor .\n",
    "\n",
    "zip_file = open(\"lambdas/createpredictor/predictor.zip\", \"rb\").read()\n",
    "\n",
    "lambda_.create_function(\n",
    "    FunctionName=\"predictor\",\n",
    "    Runtime=\"python3.7\",\n",
    "    Role=role_sm,\n",
    "    Handler=\"predictor.lambda_handler\",\n",
    "    Code={\"ZipFile\": zip_file},\n",
    "    Timeout=60*15,\n",
    "    MemorySize=3008\n",
    ")"
   ]
  },
  {
   "cell_type": "code",
   "execution_count": 8,
   "metadata": {},
   "outputs": [
    {
     "name": "stdout",
     "output_type": "stream",
     "text": [
      "  adding: getstatuspredictor.py (deflated 46%)\n"
     ]
    },
    {
     "data": {
      "text/plain": [
       "{'ResponseMetadata': {'RequestId': 'ec66c66c-a133-48ee-ad4b-f8ede27cc69b',\n",
       "  'HTTPStatusCode': 201,\n",
       "  'HTTPHeaders': {'date': 'Sat, 01 Aug 2020 13:19:13 GMT',\n",
       "   'content-type': 'application/json',\n",
       "   'content-length': '908',\n",
       "   'connection': 'keep-alive',\n",
       "   'x-amzn-requestid': 'ec66c66c-a133-48ee-ad4b-f8ede27cc69b'},\n",
       "  'RetryAttempts': 0},\n",
       " 'FunctionName': 'getstatuspredictor',\n",
       " 'FunctionArn': 'arn:aws:lambda:us-east-1:805433377179:function:getstatuspredictor',\n",
       " 'Runtime': 'python3.7',\n",
       " 'Role': 'arn:aws:iam::805433377179:role/service-role/AmazonSageMaker-ExecutionRole-20200716T084970',\n",
       " 'Handler': 'getstatuspredictor.lambda_handler',\n",
       " 'CodeSize': 382,\n",
       " 'Description': '',\n",
       " 'Timeout': 900,\n",
       " 'MemorySize': 3008,\n",
       " 'LastModified': '2020-08-01T13:19:13.283+0000',\n",
       " 'CodeSha256': 'U6OA69b4ByECTijrgQPYBZWZt0zq1em5fs/aX19mcJg=',\n",
       " 'Version': '$LATEST',\n",
       " 'TracingConfig': {'Mode': 'PassThrough'},\n",
       " 'RevisionId': '36157fcc-3edb-42ec-b308-0ec016464116',\n",
       " 'State': 'Active',\n",
       " 'LastUpdateStatus': 'Successful'}"
      ]
     },
     "execution_count": 8,
     "metadata": {},
     "output_type": "execute_result"
    }
   ],
   "source": [
    "!rm -f lambdas/GetStatusPredictor/getstatuspredictor.zip\n",
    "!cd lambdas/GetStatusPredictor; zip -r getstatuspredictor .\n",
    "\n",
    "zip_file = open(\"lambdas/GetStatusPredictor/getstatuspredictor.zip\", \"rb\").read()\n",
    "\n",
    "lambda_.create_function(\n",
    "    FunctionName=\"getstatuspredictor\",\n",
    "    Runtime=\"python3.7\",\n",
    "    Role=role_sm,\n",
    "    Handler=\"getstatuspredictor.lambda_handler\",\n",
    "    Code={\"ZipFile\": zip_file},\n",
    "    Timeout=60*15,\n",
    "    MemorySize=3008\n",
    ")"
   ]
  },
  {
   "cell_type": "code",
   "execution_count": 9,
   "metadata": {},
   "outputs": [
    {
     "name": "stdout",
     "output_type": "stream",
     "text": [
      "  adding: forecast.py (deflated 45%)\n"
     ]
    },
    {
     "data": {
      "text/plain": [
       "{'ResponseMetadata': {'RequestId': '8b8cc7f8-1516-4f06-9ba4-6741f1905b60',\n",
       "  'HTTPStatusCode': 201,\n",
       "  'HTTPHeaders': {'date': 'Sat, 01 Aug 2020 13:19:14 GMT',\n",
       "   'content-type': 'application/json',\n",
       "   'content-length': '878',\n",
       "   'connection': 'keep-alive',\n",
       "   'x-amzn-requestid': '8b8cc7f8-1516-4f06-9ba4-6741f1905b60'},\n",
       "  'RetryAttempts': 0},\n",
       " 'FunctionName': 'forecast',\n",
       " 'FunctionArn': 'arn:aws:lambda:us-east-1:805433377179:function:forecast',\n",
       " 'Runtime': 'python3.7',\n",
       " 'Role': 'arn:aws:iam::805433377179:role/service-role/AmazonSageMaker-ExecutionRole-20200716T084970',\n",
       " 'Handler': 'forecast.lambda_handler',\n",
       " 'CodeSize': 374,\n",
       " 'Description': '',\n",
       " 'Timeout': 900,\n",
       " 'MemorySize': 3008,\n",
       " 'LastModified': '2020-08-01T13:19:14.518+0000',\n",
       " 'CodeSha256': 'aozu0Z3fO0iTdTir/My4WCE9/wQ3/Tg58r7FTq5wytc=',\n",
       " 'Version': '$LATEST',\n",
       " 'TracingConfig': {'Mode': 'PassThrough'},\n",
       " 'RevisionId': 'e2929354-384a-458c-a025-1d3d4b1e7d0f',\n",
       " 'State': 'Active',\n",
       " 'LastUpdateStatus': 'Successful'}"
      ]
     },
     "execution_count": 9,
     "metadata": {},
     "output_type": "execute_result"
    }
   ],
   "source": [
    "!rm -f lambdas/createforecast/forecast.zip\n",
    "!cd lambdas/createforecast; zip -r forecast .\n",
    "\n",
    "zip_file = open(\"lambdas/createforecast/forecast.zip\", \"rb\").read()\n",
    "\n",
    "lambda_.create_function(\n",
    "    FunctionName=\"forecast\",\n",
    "    Runtime=\"python3.7\",\n",
    "    Role=role_sm,\n",
    "    Handler=\"forecast.lambda_handler\",\n",
    "    Code={\"ZipFile\": zip_file},\n",
    "    Timeout=60*15,\n",
    "    MemorySize=3008\n",
    ")"
   ]
  },
  {
   "cell_type": "code",
   "execution_count": 10,
   "metadata": {},
   "outputs": [
    {
     "name": "stdout",
     "output_type": "stream",
     "text": [
      "  adding: getstatusforecast.py (deflated 47%)\n"
     ]
    },
    {
     "data": {
      "text/plain": [
       "{'ResponseMetadata': {'RequestId': 'b4854f1f-1827-4e9d-a890-6b3fef891e4f',\n",
       "  'HTTPStatusCode': 201,\n",
       "  'HTTPHeaders': {'date': 'Sat, 01 Aug 2020 13:19:16 GMT',\n",
       "   'content-type': 'application/json',\n",
       "   'content-length': '905',\n",
       "   'connection': 'keep-alive',\n",
       "   'x-amzn-requestid': 'b4854f1f-1827-4e9d-a890-6b3fef891e4f'},\n",
       "  'RetryAttempts': 0},\n",
       " 'FunctionName': 'getstatusforecast',\n",
       " 'FunctionArn': 'arn:aws:lambda:us-east-1:805433377179:function:getstatusforecast',\n",
       " 'Runtime': 'python3.7',\n",
       " 'Role': 'arn:aws:iam::805433377179:role/service-role/AmazonSageMaker-ExecutionRole-20200716T084970',\n",
       " 'Handler': 'getstatusforecast.lambda_handler',\n",
       " 'CodeSize': 374,\n",
       " 'Description': '',\n",
       " 'Timeout': 900,\n",
       " 'MemorySize': 3008,\n",
       " 'LastModified': '2020-08-01T13:19:15.837+0000',\n",
       " 'CodeSha256': 'm93syuTvFZ9cc4CyWa7RDnw5uCl3z6UxqnxpGa4AVp8=',\n",
       " 'Version': '$LATEST',\n",
       " 'TracingConfig': {'Mode': 'PassThrough'},\n",
       " 'RevisionId': '43635002-3a50-4900-9ca9-b50f67969c18',\n",
       " 'State': 'Active',\n",
       " 'LastUpdateStatus': 'Successful'}"
      ]
     },
     "execution_count": 10,
     "metadata": {},
     "output_type": "execute_result"
    }
   ],
   "source": [
    "!rm -f lambdas/GetStatusForecast/getstatusforecast.zip\n",
    "!cd lambdas/GetStatusForecast; zip -r getstatusforecast .\n",
    "\n",
    "zip_file = open(\"lambdas/GetStatusForecast/getstatusforecast.zip\", \"rb\").read()\n",
    "\n",
    "lambda_.create_function(\n",
    "    FunctionName=\"getstatusforecast\",\n",
    "    Runtime=\"python3.7\",\n",
    "    Role=role_sm,\n",
    "    Handler=\"getstatusforecast.lambda_handler\",\n",
    "    Code={\"ZipFile\": zip_file},\n",
    "    Timeout=60*15,\n",
    "    MemorySize=3008\n",
    ")"
   ]
  },
  {
   "cell_type": "code",
   "execution_count": 11,
   "metadata": {},
   "outputs": [
    {
     "name": "stdout",
     "output_type": "stream",
     "text": [
      "  adding: forecastexportjob.py (deflated 53%)\n"
     ]
    },
    {
     "data": {
      "text/plain": [
       "{'ResponseMetadata': {'RequestId': '8e704695-62a3-4164-9d2d-d1d3e679aead',\n",
       "  'HTTPStatusCode': 201,\n",
       "  'HTTPHeaders': {'date': 'Sat, 01 Aug 2020 13:19:17 GMT',\n",
       "   'content-type': 'application/json',\n",
       "   'content-length': '905',\n",
       "   'connection': 'keep-alive',\n",
       "   'x-amzn-requestid': '8e704695-62a3-4164-9d2d-d1d3e679aead'},\n",
       "  'RetryAttempts': 0},\n",
       " 'FunctionName': 'forecastexportjob',\n",
       " 'FunctionArn': 'arn:aws:lambda:us-east-1:805433377179:function:forecastexportjob',\n",
       " 'Runtime': 'python3.7',\n",
       " 'Role': 'arn:aws:iam::805433377179:role/service-role/AmazonSageMaker-ExecutionRole-20200716T084970',\n",
       " 'Handler': 'forecastexportjob.lambda_handler',\n",
       " 'CodeSize': 508,\n",
       " 'Description': '',\n",
       " 'Timeout': 900,\n",
       " 'MemorySize': 3008,\n",
       " 'LastModified': '2020-08-01T13:19:17.079+0000',\n",
       " 'CodeSha256': '30oXiVATLm2ex6B2FQiMagL8mYdEUPh2cr7rTDJnFSQ=',\n",
       " 'Version': '$LATEST',\n",
       " 'TracingConfig': {'Mode': 'PassThrough'},\n",
       " 'RevisionId': 'f4d9f39e-817a-4fab-b8ee-94858184d7c4',\n",
       " 'State': 'Active',\n",
       " 'LastUpdateStatus': 'Successful'}"
      ]
     },
     "execution_count": 11,
     "metadata": {},
     "output_type": "execute_result"
    }
   ],
   "source": [
    "!rm -f lambdas/createforecastexportjob/forecastexportjob.zip\n",
    "!cd lambdas/createforecastexportjob; zip -r forecastexportjob .\n",
    "\n",
    "zip_file = open(\"lambdas/createforecastexportjob/forecastexportjob.zip\", \"rb\").read()\n",
    "\n",
    "lambda_.create_function(\n",
    "    FunctionName=\"forecastexportjob\",\n",
    "    Runtime=\"python3.7\",\n",
    "    Role=role_sm,\n",
    "    Handler=\"forecastexportjob.lambda_handler\",\n",
    "    Code={\"ZipFile\": zip_file},\n",
    "    Timeout=60*15,\n",
    "    MemorySize=3008\n",
    ")"
   ]
  },
  {
   "cell_type": "code",
   "execution_count": 12,
   "metadata": {},
   "outputs": [
    {
     "name": "stdout",
     "output_type": "stream",
     "text": [
      "  adding: getstatusforecastexportjob.py (deflated 47%)\n"
     ]
    },
    {
     "data": {
      "text/plain": [
       "{'ResponseMetadata': {'RequestId': 'c3e7af4a-a9fa-47e2-a0e8-bd1f3fcb3cc4',\n",
       "  'HTTPStatusCode': 201,\n",
       "  'HTTPHeaders': {'date': 'Sat, 01 Aug 2020 13:19:18 GMT',\n",
       "   'content-type': 'application/json',\n",
       "   'content-length': '932',\n",
       "   'connection': 'keep-alive',\n",
       "   'x-amzn-requestid': 'c3e7af4a-a9fa-47e2-a0e8-bd1f3fcb3cc4'},\n",
       "  'RetryAttempts': 0},\n",
       " 'FunctionName': 'getstatusforecastexportjob',\n",
       " 'FunctionArn': 'arn:aws:lambda:us-east-1:805433377179:function:getstatusforecastexportjob',\n",
       " 'Runtime': 'python3.7',\n",
       " 'Role': 'arn:aws:iam::805433377179:role/service-role/AmazonSageMaker-ExecutionRole-20200716T084970',\n",
       " 'Handler': 'getstatusforecastexportjob.lambda_handler',\n",
       " 'CodeSize': 406,\n",
       " 'Description': '',\n",
       " 'Timeout': 900,\n",
       " 'MemorySize': 3008,\n",
       " 'LastModified': '2020-08-01T13:19:18.360+0000',\n",
       " 'CodeSha256': '7gfhIm0E6+FmQlVZCsXHR08X42ddNQ7ioaYPIRIG2OU=',\n",
       " 'Version': '$LATEST',\n",
       " 'TracingConfig': {'Mode': 'PassThrough'},\n",
       " 'RevisionId': '7d1710c7-b5dc-47ef-b71a-26a9b8c4dbd7',\n",
       " 'State': 'Active',\n",
       " 'LastUpdateStatus': 'Successful'}"
      ]
     },
     "execution_count": 12,
     "metadata": {},
     "output_type": "execute_result"
    }
   ],
   "source": [
    "!rm -f lambdas/GetStatusForecastExportJob/getstatusforecastexportjob.zip\n",
    "!cd lambdas/GetStatusForecastExportJob; zip -r getstatusforecastexportjob .\n",
    "\n",
    "zip_file = open(\"lambdas/GetStatusForecastExportJob/getstatusforecastexportjob.zip\", \"rb\").read()\n",
    "\n",
    "lambda_.create_function(\n",
    "    FunctionName=\"getstatusforecastexportjob\",\n",
    "    Runtime=\"python3.7\",\n",
    "    Role=role_sm,\n",
    "    Handler=\"getstatusforecastexportjob.lambda_handler\",\n",
    "    Code={\"ZipFile\": zip_file},\n",
    "    Timeout=60*15,\n",
    "    MemorySize=3008\n",
    ")"
   ]
  },
  {
   "cell_type": "code",
   "execution_count": 13,
   "metadata": {},
   "outputs": [
    {
     "name": "stdout",
     "output_type": "stream",
     "text": [
      "  adding: notifyuser.py (deflated 12%)\n"
     ]
    },
    {
     "data": {
      "text/plain": [
       "{'ResponseMetadata': {'RequestId': 'a525ede3-eb80-44c8-b701-91ce53382497',\n",
       "  'HTTPStatusCode': 201,\n",
       "  'HTTPHeaders': {'date': 'Sat, 01 Aug 2020 13:19:19 GMT',\n",
       "   'content-type': 'application/json',\n",
       "   'content-length': '884',\n",
       "   'connection': 'keep-alive',\n",
       "   'x-amzn-requestid': 'a525ede3-eb80-44c8-b701-91ce53382497'},\n",
       "  'RetryAttempts': 0},\n",
       " 'FunctionName': 'notifyuser',\n",
       " 'FunctionArn': 'arn:aws:lambda:us-east-1:805433377179:function:notifyuser',\n",
       " 'Runtime': 'python3.7',\n",
       " 'Role': 'arn:aws:iam::805433377179:role/service-role/AmazonSageMaker-ExecutionRole-20200716T084970',\n",
       " 'Handler': 'notifyuser.lambda_handler',\n",
       " 'CodeSize': 263,\n",
       " 'Description': '',\n",
       " 'Timeout': 900,\n",
       " 'MemorySize': 3008,\n",
       " 'LastModified': '2020-08-01T13:19:19.563+0000',\n",
       " 'CodeSha256': 'KIb96AGobdF9EmRtk+NH6jWCOH7e/DZSChpqr2FgFrU=',\n",
       " 'Version': '$LATEST',\n",
       " 'TracingConfig': {'Mode': 'PassThrough'},\n",
       " 'RevisionId': 'd68b5471-f65d-4f50-96a4-8dc79d2cbd01',\n",
       " 'State': 'Active',\n",
       " 'LastUpdateStatus': 'Successful'}"
      ]
     },
     "execution_count": 13,
     "metadata": {},
     "output_type": "execute_result"
    }
   ],
   "source": [
    "!rm -f lambdas/NotifyUser/notifyuser.zip\n",
    "!cd lambdas/NotifyUser; zip -r notifyuser .\n",
    "\n",
    "zip_file = open(\"lambdas/NotifyUser/notifyuser.zip\", \"rb\").read()\n",
    "\n",
    "lambda_.create_function(\n",
    "    FunctionName=\"notifyuser\",\n",
    "    Runtime=\"python3.7\",\n",
    "    Role=role_sm,\n",
    "    Handler=\"notifyuser.lambda_handler\",\n",
    "    Code={\"ZipFile\": zip_file},\n",
    "    Timeout=60*15,\n",
    "    MemorySize=3008\n",
    ")"
   ]
  },
  {
   "cell_type": "markdown",
   "metadata": {},
   "source": [
    "# 2. Step Functins: Create state machine\n",
    "The definition of the state machine is created, and the creation of the state machine is performed based on the definition."
   ]
  },
  {
   "cell_type": "code",
   "execution_count": 14,
   "metadata": {},
   "outputs": [],
   "source": [
    "import sagemaker"
   ]
  },
  {
   "cell_type": "code",
   "execution_count": 15,
   "metadata": {},
   "outputs": [],
   "source": [
    "sagemaker_session = sagemaker.Session()"
   ]
  },
  {
   "cell_type": "code",
   "execution_count": 16,
   "metadata": {},
   "outputs": [
    {
     "data": {
      "text/plain": [
       "'us-east-1'"
      ]
     },
     "execution_count": 16,
     "metadata": {},
     "output_type": "execute_result"
    }
   ],
   "source": [
    "sagemaker_session.boto_region_name"
   ]
  },
  {
   "cell_type": "code",
   "execution_count": 17,
   "metadata": {},
   "outputs": [],
   "source": [
    "sts = boto3.client('sts')\n",
    "id_info = sts.get_caller_identity()"
   ]
  },
  {
   "cell_type": "code",
   "execution_count": 18,
   "metadata": {},
   "outputs": [
    {
     "data": {
      "text/plain": [
       "'805433377179'"
      ]
     },
     "execution_count": 18,
     "metadata": {},
     "output_type": "execute_result"
    }
   ],
   "source": [
    "id_info['Account']"
   ]
  },
  {
   "cell_type": "code",
   "execution_count": 19,
   "metadata": {},
   "outputs": [],
   "source": [
    "import json"
   ]
  },
  {
   "cell_type": "code",
   "execution_count": 20,
   "metadata": {},
   "outputs": [],
   "source": [
    "def_sfn={\n",
    "  \"Comment\": \"Amazon Forecast example of the Amazon States Language using an AWS Lambda Function\",\n",
    "  \"StartAt\": \"datasetimport\",\n",
    "  \"States\": {\n",
    "    \"datasetimport\": {\n",
    "      \"Type\": \"Task\",\n",
    "      \"InputPath\":\"$\",\n",
    "      \"Resource\": \"arn:aws:lambda:\" + sagemaker_session.boto_region_name + \":\" + id_info['Account'] + \":function:datasetimport\",\n",
    "      \"ResultPath\":\"$\",\n",
    "      \"Next\": \"GetStatusImport\"\n",
    "    },\n",
    "    \"GetStatusImport\": {\n",
    "      \"Type\": \"Task\",\n",
    "      \"InputPath\":\"$\",\n",
    "      \"Resource\": \"arn:aws:lambda:\" + sagemaker_session.boto_region_name + \":\" + id_info['Account'] + \":function:getstatusimport\",\n",
    "      \"ResultPath\":\"$\",\n",
    "      \"Next\": \"CheckStatusImport\"\n",
    "    },\n",
    "    \"CheckStatusImport\": {\n",
    "        \"Type\": \"Choice\",\n",
    "        \"InputPath\":\"$\",\n",
    "        \"Choices\": [\n",
    "        {\n",
    "        \"Variable\": \"$.is_active_import\",\n",
    "        \"BooleanEquals\": True,\n",
    "        \"Next\": \"predictor\"\n",
    "        }\n",
    "        ],\n",
    "        \"Default\": \"SleepCheckStatusImport\"\n",
    "        },\n",
    "    \"SleepCheckStatusImport\": {\n",
    "        \"Type\": \"Wait\",\n",
    "        \"Seconds\": 300,\n",
    "        \"Next\": \"GetStatusImport\"\n",
    "    },\n",
    "    \"predictor\": {\n",
    "      \"Type\": \"Task\",\n",
    "      \"InputPath\":\"$\",\n",
    "      \"Resource\": \"arn:aws:lambda:\" + sagemaker_session.boto_region_name + \":\" + id_info['Account'] + \":function:predictor\",\n",
    "      \"ResultPath\":\"$\",\n",
    "      \"Next\": \"GetStatusPredictor\"\n",
    "    },\n",
    "    \"GetStatusPredictor\": {\n",
    "      \"Type\": \"Task\",\n",
    "      \"InputPath\":\"$\",\n",
    "      \"Resource\": \"arn:aws:lambda:\" + sagemaker_session.boto_region_name + \":\" + id_info['Account'] + \":function:getstatuspredictor\",\n",
    "      \"ResultPath\":\"$\",\n",
    "      \"Next\": \"CheckStatusPredictor\"\n",
    "    },\n",
    "    \"CheckStatusPredictor\": {\n",
    "        \"Type\": \"Choice\",\n",
    "        \"InputPath\":\"$\",\n",
    "        \"Choices\": [\n",
    "        {\n",
    "        \"Variable\": \"$.is_active_predictor\",\n",
    "        \"BooleanEquals\": True,\n",
    "        \"Next\": \"forecast\"\n",
    "        }\n",
    "        ],\n",
    "        \"Default\": \"SleepCheckStatusPredictor\"\n",
    "        },\n",
    "    \"SleepCheckStatusPredictor\": {\n",
    "        \"Type\": \"Wait\",\n",
    "        \"Seconds\": 300,\n",
    "        \"Next\": \"GetStatusPredictor\"\n",
    "    },\n",
    "    \"forecast\": {\n",
    "      \"Type\": \"Task\",\n",
    "      \"InputPath\":\"$\",\n",
    "      \"Resource\": \"arn:aws:lambda:\" + sagemaker_session.boto_region_name + \":\" + id_info['Account'] + \":function:forecast\",\n",
    "      \"ResultPath\":\"$\",\n",
    "      \"Next\": \"GetStatusForecast\"\n",
    "    },\n",
    "    \"GetStatusForecast\": {\n",
    "      \"Type\": \"Task\",\n",
    "      \"InputPath\":\"$\",\n",
    "      \"Resource\": \"arn:aws:lambda:\" + sagemaker_session.boto_region_name + \":\" + id_info['Account'] + \":function:getstatusforecast\",\n",
    "      \"ResultPath\":\"$\",\n",
    "      \"Next\": \"CheckStatusForecast\"\n",
    "    },  \n",
    "    \"CheckStatusForecast\": {\n",
    "        \"Type\": \"Choice\",\n",
    "        \"InputPath\":\"$\",\n",
    "        \"Choices\": [\n",
    "        {\n",
    "        \"Variable\": \"$.is_active_forecast\",\n",
    "        \"BooleanEquals\": True,\n",
    "        \"Next\": \"forecastexportjob\"\n",
    "        }\n",
    "        ],\n",
    "        \"Default\": \"SleepCheckStatusForecast\"\n",
    "        },\n",
    "    \"SleepCheckStatusForecast\": {\n",
    "        \"Type\": \"Wait\",\n",
    "        \"Seconds\": 300,\n",
    "        \"Next\": \"GetStatusForecast\"\n",
    "    },\n",
    "    \"forecastexportjob\": {\n",
    "      \"Type\": \"Task\",\n",
    "      \"InputPath\":\"$\",\n",
    "      \"Resource\": \"arn:aws:lambda:\" + sagemaker_session.boto_region_name + \":\" + id_info['Account'] + \":function:forecastexportjob\",\n",
    "      \"ResultPath\":\"$\",\n",
    "      \"Next\": \"GetStatusForecastExportjob\"\n",
    "    },\n",
    "    \"GetStatusForecastExportjob\": {\n",
    "      \"Type\": \"Task\",\n",
    "      \"InputPath\":\"$\",\n",
    "      \"Resource\": \"arn:aws:lambda:\" + sagemaker_session.boto_region_name + \":\" + id_info['Account'] + \":function:getstatusforecastexportjob\",\n",
    "      \"ResultPath\":\"$\",\n",
    "      \"Next\": \"CheckStatusExport\"\n",
    "    },  \n",
    "    \"CheckStatusExport\": {\n",
    "        \"Type\": \"Choice\",\n",
    "        \"InputPath\":\"$\",\n",
    "        \"Choices\": [\n",
    "        {\n",
    "        \"Variable\": \"$.is_active_export\",\n",
    "        \"BooleanEquals\": True,\n",
    "        \"Next\": \"NotifyUser\"\n",
    "        }\n",
    "        ],\n",
    "        \"Default\": \"SleepCheckStatusExport\"\n",
    "        },\n",
    "    \"SleepCheckStatusExport\": {\n",
    "        \"Type\": \"Wait\",\n",
    "        \"Seconds\": 300,\n",
    "        \"Next\": \"GetStatusForecastExportjob\"\n",
    "    },\n",
    "    \"NotifyUser\": {\n",
    "      \"Type\": \"Task\",\n",
    "      \"InputPath\":\"$\",\n",
    "      \"Resource\": \"arn:aws:lambda:\" + sagemaker_session.boto_region_name + \":\" + id_info['Account'] + \":function:notifyuser\",\n",
    "      \"ResultPath\":\"$\",\n",
    "      \"End\": True\n",
    "    }\n",
    "  }\n",
    "}\n"
   ]
  },
  {
   "cell_type": "code",
   "execution_count": 21,
   "metadata": {},
   "outputs": [],
   "source": [
    "with open('./definition.json', 'w') as f:\n",
    "    json.dump(def_sfn, f, indent=2, ensure_ascii=False)"
   ]
  },
  {
   "cell_type": "code",
   "execution_count": 22,
   "metadata": {},
   "outputs": [],
   "source": [
    "import boto3\n",
    "sfn = boto3.client('stepfunctions')"
   ]
  },
  {
   "cell_type": "code",
   "execution_count": 23,
   "metadata": {},
   "outputs": [
    {
     "data": {
      "text/plain": [
       "{'stateMachineArn': 'arn:aws:states:us-east-1:805433377179:stateMachine:demo-forecast',\n",
       " 'creationDate': datetime.datetime(2020, 8, 1, 13, 20, 15, 742000, tzinfo=tzlocal()),\n",
       " 'ResponseMetadata': {'RequestId': 'a9e068ed-3946-4fa0-8141-ed476092a6c9',\n",
       "  'HTTPStatusCode': 200,\n",
       "  'HTTPHeaders': {'x-amzn-requestid': 'a9e068ed-3946-4fa0-8141-ed476092a6c9',\n",
       "   'content-type': 'application/x-amz-json-1.0',\n",
       "   'content-length': '118'},\n",
       "  'RetryAttempts': 0}}"
      ]
     },
     "execution_count": 23,
     "metadata": {},
     "output_type": "execute_result"
    }
   ],
   "source": [
    "sfn.create_state_machine(\n",
    "        name=\"demo-forecast\",\n",
    "        definition=open(\"definition.json\").read(),\n",
    "        roleArn=role_sm\n",
    ")"
   ]
  },
  {
   "cell_type": "markdown",
   "metadata": {},
   "source": [
    "# 3.AWS CloudTrail :create trail  \n",
    "https://docs.aws.amazon.com/step-functions/latest/dg/tutorial-cloudwatch-events-s3.html\n",
    "\n",
    "Configure CloudTrail and CloudWatch Events to run Step Functions by triggering S3 object placement as described in this guide.\n",
    "\n",
    "https://boto3.amazonaws.com/v1/documentation/api/1.9.42/reference/services/cloudtrail.html#CloudTrail.Client.create_trail"
   ]
  },
  {
   "cell_type": "code",
   "execution_count": 24,
   "metadata": {},
   "outputs": [
    {
     "name": "stdout",
     "output_type": "stream",
     "text": [
      "boto3==1.14.16\n"
     ]
    }
   ],
   "source": [
    "! pip freeze | grep boto3"
   ]
  },
  {
   "cell_type": "code",
   "execution_count": 25,
   "metadata": {},
   "outputs": [],
   "source": [
    "cloudtrail = boto3.client('cloudtrail')"
   ]
  },
  {
   "cell_type": "code",
   "execution_count": 26,
   "metadata": {},
   "outputs": [
    {
     "name": "stdout",
     "output_type": "stream",
     "text": [
      "805433377179\n"
     ]
    }
   ],
   "source": [
    "sts = boto3.client('sts')\n",
    "id_info = sts.get_caller_identity()\n",
    "print(id_info['Account'])"
   ]
  },
  {
   "cell_type": "code",
   "execution_count": 27,
   "metadata": {},
   "outputs": [],
   "source": [
    "bucket_name = 'demo-forecast-' + id_info['Account']"
   ]
  },
  {
   "cell_type": "code",
   "execution_count": 28,
   "metadata": {},
   "outputs": [
    {
     "data": {
      "text/plain": [
       "'demo-forecast-805433377179'"
      ]
     },
     "execution_count": 28,
     "metadata": {},
     "output_type": "execute_result"
    }
   ],
   "source": [
    "bucket_name"
   ]
  },
  {
   "cell_type": "code",
   "execution_count": 29,
   "metadata": {},
   "outputs": [],
   "source": [
    "output_trail_bucket = bucket_name + '-trail'"
   ]
  },
  {
   "cell_type": "code",
   "execution_count": 30,
   "metadata": {},
   "outputs": [
    {
     "data": {
      "text/plain": [
       "{'ResponseMetadata': {'RequestId': '870DF6C2D4340C06',\n",
       "  'HostId': 'zy5hflw1mCT/7iIyIyD/5hP8YZriRTPGwkwATe0EWV1PctLfZ/jhXYWn75cSuB3KO8vSI0RFYas=',\n",
       "  'HTTPStatusCode': 200,\n",
       "  'HTTPHeaders': {'x-amz-id-2': 'zy5hflw1mCT/7iIyIyD/5hP8YZriRTPGwkwATe0EWV1PctLfZ/jhXYWn75cSuB3KO8vSI0RFYas=',\n",
       "   'x-amz-request-id': '870DF6C2D4340C06',\n",
       "   'date': 'Sat, 01 Aug 2020 13:20:29 GMT',\n",
       "   'location': '/demo-forecast-805433377179-trail',\n",
       "   'content-length': '0',\n",
       "   'server': 'AmazonS3'},\n",
       "  'RetryAttempts': 0},\n",
       " 'Location': '/demo-forecast-805433377179-trail'}"
      ]
     },
     "execution_count": 30,
     "metadata": {},
     "output_type": "execute_result"
    }
   ],
   "source": [
    "s3 = boto3.client('s3')\n",
    "s3.create_bucket(Bucket=output_trail_bucket)"
   ]
  },
  {
   "cell_type": "markdown",
   "metadata": {},
   "source": [
    "## set bucket policy\n",
    "setting policy with boto3  \n",
    "https://boto3.amazonaws.com/v1/documentation/api/latest/guide/s3-example-bucket-policies.html"
   ]
  },
  {
   "cell_type": "code",
   "execution_count": 31,
   "metadata": {},
   "outputs": [],
   "source": [
    "import json"
   ]
  },
  {
   "cell_type": "code",
   "execution_count": 32,
   "metadata": {},
   "outputs": [],
   "source": [
    "bucket_policy = {\n",
    "    \"Version\": \"2012-10-17\",\n",
    "    \"Statement\": [\n",
    "        {\n",
    "            \"Sid\": \"AWSCloudTrailAclCheck20150319\",\n",
    "            \"Effect\": \"Allow\",\n",
    "            \"Principal\": {\n",
    "                \"Service\": \"cloudtrail.amazonaws.com\"\n",
    "            },\n",
    "            \"Action\": \"s3:GetBucketAcl\",\n",
    "            \"Resource\": \"arn:aws:s3:::\" + bucket_name + \"-trail\"\n",
    "        },\n",
    "        {\n",
    "            \"Sid\": \"AWSCloudTrailWrite20150319\",\n",
    "            \"Effect\": \"Allow\",\n",
    "            \"Principal\": {\n",
    "                \"Service\": \"cloudtrail.amazonaws.com\"\n",
    "            },\n",
    "            \"Action\": \"s3:PutObject\",\n",
    "            \"Resource\": \"arn:aws:s3:::\" + bucket_name + \"-trail/AWSLogs/\" + id_info['Account'] + \"/*\",\n",
    "            \"Condition\": {\n",
    "                \"StringEquals\": {\n",
    "                    \"s3:x-amz-acl\": \"bucket-owner-full-control\"\n",
    "                }\n",
    "            }\n",
    "        }\n",
    "    ]\n",
    "}\n",
    "\n",
    "# Convert the policy from JSON dict to string\n",
    "bucket_policy = json.dumps(bucket_policy)"
   ]
  },
  {
   "cell_type": "code",
   "execution_count": 33,
   "metadata": {},
   "outputs": [
    {
     "data": {
      "text/plain": [
       "{'ResponseMetadata': {'RequestId': '1D9D6F91598DB542',\n",
       "  'HostId': 'dCV/RaH/P2RibIpug2cLQk4HynWdOC1fhtO7wLqFWMtWFkP9PWt+W1Ly+dQQz3JJXadxK0rnfSg=',\n",
       "  'HTTPStatusCode': 204,\n",
       "  'HTTPHeaders': {'x-amz-id-2': 'dCV/RaH/P2RibIpug2cLQk4HynWdOC1fhtO7wLqFWMtWFkP9PWt+W1Ly+dQQz3JJXadxK0rnfSg=',\n",
       "   'x-amz-request-id': '1D9D6F91598DB542',\n",
       "   'date': 'Sat, 01 Aug 2020 13:20:34 GMT',\n",
       "   'server': 'AmazonS3'},\n",
       "  'RetryAttempts': 0}}"
      ]
     },
     "execution_count": 33,
     "metadata": {},
     "output_type": "execute_result"
    }
   ],
   "source": [
    "# Set the new policy\n",
    "s3 = boto3.client('s3')\n",
    "s3.put_bucket_policy(Bucket=output_trail_bucket, Policy=bucket_policy)"
   ]
  },
  {
   "cell_type": "code",
   "execution_count": 34,
   "metadata": {},
   "outputs": [
    {
     "data": {
      "text/plain": [
       "{'Name': 'forecast-trail',\n",
       " 'S3BucketName': 'demo-forecast-805433377179-trail',\n",
       " 'IncludeGlobalServiceEvents': True,\n",
       " 'IsMultiRegionTrail': False,\n",
       " 'TrailARN': 'arn:aws:cloudtrail:us-east-1:805433377179:trail/forecast-trail',\n",
       " 'LogFileValidationEnabled': True,\n",
       " 'IsOrganizationTrail': False,\n",
       " 'ResponseMetadata': {'RequestId': '1f1cbd4e-4827-4683-bd21-0416b4a6eb56',\n",
       "  'HTTPStatusCode': 200,\n",
       "  'HTTPHeaders': {'x-amzn-requestid': '1f1cbd4e-4827-4683-bd21-0416b4a6eb56',\n",
       "   'content-type': 'application/x-amz-json-1.1',\n",
       "   'content-length': '272',\n",
       "   'date': 'Sat, 01 Aug 2020 13:20:34 GMT'},\n",
       "  'RetryAttempts': 0}}"
      ]
     },
     "execution_count": 34,
     "metadata": {},
     "output_type": "execute_result"
    }
   ],
   "source": [
    "cloudtrail.create_trail(\n",
    "    Name='forecast-trail',\n",
    "    S3BucketName=output_trail_bucket,\n",
    "    EnableLogFileValidation=True\n",
    ")"
   ]
  },
  {
   "cell_type": "code",
   "execution_count": 35,
   "metadata": {},
   "outputs": [
    {
     "data": {
      "text/plain": [
       "{'TrailARN': 'arn:aws:cloudtrail:us-east-1:805433377179:trail/forecast-trail',\n",
       " 'EventSelectors': [{'ReadWriteType': 'All',\n",
       "   'IncludeManagementEvents': True,\n",
       "   'DataResources': [{'Type': 'AWS::S3::Object',\n",
       "     'Values': ['arn:aws:s3:::demo-forecast-805433377179/']}],\n",
       "   'ExcludeManagementEventSources': []}],\n",
       " 'ResponseMetadata': {'RequestId': 'da6c7e1a-c103-4cf6-bfb8-b64ffd372168',\n",
       "  'HTTPStatusCode': 200,\n",
       "  'HTTPHeaders': {'x-amzn-requestid': 'da6c7e1a-c103-4cf6-bfb8-b64ffd372168',\n",
       "   'content-type': 'application/x-amz-json-1.1',\n",
       "   'content-length': '285',\n",
       "   'date': 'Sat, 01 Aug 2020 13:20:36 GMT'},\n",
       "  'RetryAttempts': 0}}"
      ]
     },
     "execution_count": 35,
     "metadata": {},
     "output_type": "execute_result"
    }
   ],
   "source": [
    "cloudtrail.put_event_selectors(\n",
    "    TrailName='forecast-trail',\n",
    "    EventSelectors=[\n",
    "        {\n",
    "            'ReadWriteType': 'All',\n",
    "            'IncludeManagementEvents': True,\n",
    "            'DataResources': [\n",
    "                {\n",
    "                    'Type': 'AWS::S3::Object',\n",
    "                    'Values': [\n",
    "                        f'arn:aws:s3:::{bucket_name}/',\n",
    "                    ]\n",
    "                },\n",
    "            ]\n",
    "        },\n",
    "    ]\n",
    ")"
   ]
  },
  {
   "cell_type": "markdown",
   "metadata": {},
   "source": [
    "### enable logging\n",
    "https://boto3.amazonaws.com/v1/documentation/api/latest/reference/services/cloudtrail.html#CloudTrail.Client.start_logging"
   ]
  },
  {
   "cell_type": "code",
   "execution_count": 36,
   "metadata": {},
   "outputs": [
    {
     "data": {
      "text/plain": [
       "{'ResponseMetadata': {'RequestId': '3c4ed1be-4a8a-4f4d-93d4-25f7a84ddea6',\n",
       "  'HTTPStatusCode': 200,\n",
       "  'HTTPHeaders': {'x-amzn-requestid': '3c4ed1be-4a8a-4f4d-93d4-25f7a84ddea6',\n",
       "   'content-type': 'application/x-amz-json-1.1',\n",
       "   'content-length': '2',\n",
       "   'date': 'Sat, 01 Aug 2020 13:20:38 GMT'},\n",
       "  'RetryAttempts': 0}}"
      ]
     },
     "execution_count": 36,
     "metadata": {},
     "output_type": "execute_result"
    }
   ],
   "source": [
    "cloudtrail.start_logging(Name='forecast-trail')"
   ]
  },
  {
   "cell_type": "markdown",
   "metadata": {},
   "source": [
    "# 4.CloudWatch Event: build a rule\n",
    "https://boto3.amazonaws.com/v1/documentation/api/1.9.42/reference/services/events.html\n",
    "\n",
    "\n",
    "put_rule(): create rule  \n",
    "https://boto3.amazonaws.com/v1/documentation/api/1.9.42/reference/services/events.html#CloudWatchEvents.Client.put_rule\n"
   ]
  },
  {
   "cell_type": "code",
   "execution_count": 37,
   "metadata": {},
   "outputs": [
    {
     "data": {
      "text/plain": [
       "'demo-forecast-805433377179'"
      ]
     },
     "execution_count": 37,
     "metadata": {},
     "output_type": "execute_result"
    }
   ],
   "source": [
    "bucket_name"
   ]
  },
  {
   "cell_type": "code",
   "execution_count": 38,
   "metadata": {},
   "outputs": [],
   "source": [
    "cwe = boto3.client('events')"
   ]
  },
  {
   "cell_type": "code",
   "execution_count": 39,
   "metadata": {},
   "outputs": [],
   "source": [
    "ep_str ='{\"source\":[\"aws.s3\"], \\\n",
    "        \"detail-type\":[\"AWS API Call via CloudTrail\"], \\\n",
    "        \"detail\":{\"eventSource\":[\"s3.amazonaws.com\"], \\\n",
    "        \"eventName\":[\"PutObject\", \"CompleteMultipartUpload\"], \\\n",
    "        \"requestParameters\":{\"bucketName\":[\"'+ bucket_name + '\"]}}}'"
   ]
  },
  {
   "cell_type": "code",
   "execution_count": 40,
   "metadata": {},
   "outputs": [
    {
     "data": {
      "text/plain": [
       "{'RuleArn': 'arn:aws:events:us-east-1:805433377179:rule/demo-forecast',\n",
       " 'ResponseMetadata': {'RequestId': '22981581-3982-4491-b752-3f008910c28c',\n",
       "  'HTTPStatusCode': 200,\n",
       "  'HTTPHeaders': {'x-amzn-requestid': '22981581-3982-4491-b752-3f008910c28c',\n",
       "   'content-type': 'application/x-amz-json-1.1',\n",
       "   'content-length': '70',\n",
       "   'date': 'Sat, 01 Aug 2020 13:20:44 GMT'},\n",
       "  'RetryAttempts': 0}}"
      ]
     },
     "execution_count": 40,
     "metadata": {},
     "output_type": "execute_result"
    }
   ],
   "source": [
    "cwe.put_rule(\n",
    "    Name='demo-forecast',\n",
    "    EventPattern=ep_str,\n",
    "    State='ENABLED'\n",
    ")"
   ]
  },
  {
   "cell_type": "code",
   "execution_count": 41,
   "metadata": {},
   "outputs": [
    {
     "data": {
      "text/plain": [
       "{'FailedEntryCount': 0,\n",
       " 'FailedEntries': [],\n",
       " 'ResponseMetadata': {'RequestId': '0f8f6d09-bf7a-4e96-b286-b76451b89fa5',\n",
       "  'HTTPStatusCode': 200,\n",
       "  'HTTPHeaders': {'x-amzn-requestid': '0f8f6d09-bf7a-4e96-b286-b76451b89fa5',\n",
       "   'content-type': 'application/x-amz-json-1.1',\n",
       "   'content-length': '41',\n",
       "   'date': 'Sat, 01 Aug 2020 13:20:45 GMT'},\n",
       "  'RetryAttempts': 0}}"
      ]
     },
     "execution_count": 41,
     "metadata": {},
     "output_type": "execute_result"
    }
   ],
   "source": [
    "cwe.put_targets(\n",
    "    Rule='demo-forecast',\n",
    "    Targets=[\n",
    "        {\n",
    "            'Id': 'forecast',\n",
    "            'Arn': \"arn:aws:states:\" + sagemaker_session.boto_region_name + \":\" + id_info['Account'] + \":stateMachine:demo-forecast\",\n",
    "            'RoleArn': role_sm\n",
    "        }\n",
    "    ]\n",
    ")"
   ]
  },
  {
   "cell_type": "markdown",
   "metadata": {},
   "source": [
    "# 5.Put additional file into S3\n",
    "When upload a file to S3, Step Functions runs.\n",
    "\n",
    "It may not work if you run it all at once. wait about 30 seconds. the S3 file can be uploaded repeatedly."
   ]
  },
  {
   "cell_type": "code",
   "execution_count": 42,
   "metadata": {},
   "outputs": [],
   "source": [
    "s3 = boto3.resource('s3')\n",
    "bucket = s3.Bucket(bucket_name)\n",
    "\n",
    "bucket.upload_file('./output/tr_target_add_20091201_20101209.csv', 'input/tr_target_add_20091201_20101209.csv')"
   ]
  },
  {
   "cell_type": "markdown",
   "metadata": {},
   "source": [
    "# 6.Next\n",
    "When Step Functions is completed, the prediction results are output to S3, import the data source in QuickSight using the same procedure as before and visualize it."
   ]
  }
 ],
 "metadata": {
  "kernelspec": {
   "display_name": "conda_python3",
   "language": "python",
   "name": "conda_python3"
  },
  "language_info": {
   "codemirror_mode": {
    "name": "ipython",
    "version": 3
   },
   "file_extension": ".py",
   "mimetype": "text/x-python",
   "name": "python",
   "nbconvert_exporter": "python",
   "pygments_lexer": "ipython3",
   "version": "3.6.10"
  }
 },
 "nbformat": 4,
 "nbformat_minor": 4
}
